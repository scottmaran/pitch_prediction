{
 "cells": [
  {
   "cell_type": "code",
   "execution_count": 1,
   "metadata": {},
   "outputs": [],
   "source": [
    "import pandas as pd\n",
    "import numpy as np\n",
    "import pickle\n",
    "import chardet"
   ]
  },
  {
   "cell_type": "code",
   "execution_count": 2,
   "metadata": {},
   "outputs": [],
   "source": [
    "pd.set_option('display.max_columns', None)\n",
    "pd.set_option('display.max_rows', 50)"
   ]
  },
  {
   "cell_type": "code",
   "execution_count": 3,
   "metadata": {},
   "outputs": [
    {
     "name": "stderr",
     "output_type": "stream",
     "text": [
      "/var/folders/_w/4wq7jf9n3c74v00gxl_2v81r0000gn/T/ipykernel_49097/2038295874.py:8: DtypeWarning: Columns (29,30) have mixed types. Specify dtype option on import or set low_memory=False.\n",
      "  pitches = pd.read_csv(\"pitches_folder/pitches\")\n"
     ]
    }
   ],
   "source": [
    "pbp_filepath = \"pitches_folder/pitch_by_pitch_metadata.csv\"\n",
    "pitches_filepath = \"pitches_folder/pitches\"\n",
    "\n",
    "with open(pbp_filepath, 'rb') as rawdata:\n",
    "    result = chardet.detect(rawdata.read(100000))\n",
    "\n",
    "pitch_by_pitch_metadata = pd.read_csv(\"pitches_folder/pitch_by_pitch_metadata.csv\", encoding=result['encoding'])\n",
    "pitches = pd.read_csv(\"pitches_folder/pitches\")"
   ]
  },
  {
   "cell_type": "code",
   "execution_count": 4,
   "metadata": {},
   "outputs": [],
   "source": [
    "pitches_modified = pitches.copy(deep=True)\n",
    "pitch_types_to_keep = ['FF', 'FT', 'SI', 'FC', 'FS', 'SL', 'CU', 'CH', 'KC', 'KN', 'EP', 'FO', 'SC']    # 13 seems to be common\n",
    "pitches_modified = pitches_modified.query(\"pitch_type in @pitch_types_to_keep\").reset_index(drop=True)"
   ]
  },
  {
   "cell_type": "code",
   "execution_count": 5,
   "metadata": {},
   "outputs": [
    {
     "name": "stdout",
     "output_type": "stream",
     "text": [
      "Size = (711841, 125)\n"
     ]
    }
   ],
   "source": [
    "print(f\"Size = {pitches_modified.shape}\")"
   ]
  },
  {
   "cell_type": "code",
   "execution_count": 6,
   "metadata": {},
   "outputs": [
    {
     "name": "stdout",
     "output_type": "stream",
     "text": [
      "['uid', 'game_pk', 'year', 'date', 'team_id_b', 'team_id_p', 'inning', 'top', 'at_bat_num', 'pcount_at_bat', 'pcount_pitcher', 'balls', 'strikes', 'fouls', 'outs', 'is_final_pitch', 'final_balls', 'final_strikes', 'final_outs', 'start_tfs', 'start_tfs_zulu', 'batter_id', 'stand', 'b_height', 'pitcher_id', 'p_throws', 'at_bat_des', 'event', 'event2', 'event3', 'event4', 'away_team_runs', 'home_team_runs', 'score', 'pitch_des', 'pitch_id', 'type', 'pitch_tfs', 'pitch_tfs_zulu', 'x', 'y', 'sv_id', 'start_speed', 'end_speed', 'sz_top', 'sz_bot', 'pfx_x', 'pfx_z', 'px', 'pz', 'x0', 'z0', 'y0', 'vx0', 'vz0', 'vy0', 'ax', 'az', 'ay', 'break_length', 'break_y', 'break_angle', 'pitch_type', 'type_confidence', 'zone', 'nasty', 'spin_dir', 'spin_rate', 'cc', 'on_1b', 'on_2b', 'on_3b', 'runner1_id', 'runner1_start', 'runner1_end', 'runner1_event', 'runner1_score', 'runner1_rbi', 'runner1_earned', 'runner2_id', 'runner2_start', 'runner2_end', 'runner2_event', 'runner2_score', 'runner2_rbi', 'runner2_earned', 'runner3_id', 'runner3_start', 'runner3_end', 'runner3_event', 'runner3_score', 'runner3_rbi', 'runner3_earned', 'runner4_id', 'runner4_start', 'runner4_end', 'runner4_event', 'runner4_score', 'runner4_rbi', 'runner4_earned', 'runner5_id', 'runner5_start', 'runner5_end', 'runner5_event', 'runner5_score', 'runner5_rbi', 'runner5_earned', 'runner6_id', 'runner6_start', 'runner6_end', 'runner6_event', 'runner6_score', 'runner6_rbi', 'runner6_earned', 'runner7_id', 'runner7_start', 'runner7_end', 'runner7_event', 'runner7_score', 'runner7_rbi', 'runner7_earned', 'created_at', 'added_at', 'modified_at', 'modified_by']\n"
     ]
    }
   ],
   "source": [
    "print(list(pitches_modified.columns))"
   ]
  },
  {
   "cell_type": "code",
   "execution_count": 7,
   "metadata": {},
   "outputs": [],
   "source": [
    "# leaving out time for now (start_tfs_zulu)\n",
    "\n",
    "targets = ['pitch_type', 'type_confidence']\n",
    "games_features = ['inning', 'top', 'score_diff', 'at_bat_num', 'p_throws', 'pcount_pitcher', 'bases_state', 'pitcher_id']\n",
    "count_features = ['pcount_at_bat', 'balls', 'strikes', 'outs']\n",
    "batter_features = ['stand', 'height_inches']"
   ]
  },
  {
   "cell_type": "code",
   "execution_count": 8,
   "metadata": {},
   "outputs": [],
   "source": [
    "pitches_modified.on_1b.where(pitches_modified.on_1b.isna(),1, inplace=True)\n",
    "pitches_modified.on_1b.fillna(0, inplace=True)\n",
    "pitches_modified.on_2b.where(pitches_modified.on_2b.isna(),1, inplace=True)\n",
    "pitches_modified.on_2b.fillna(0, inplace=True)\n",
    "pitches_modified.on_3b.where(pitches_modified.on_3b.isna(),1, inplace=True)\n",
    "pitches_modified.on_3b.fillna(0, inplace=True)\n",
    "\n",
    "pitches_modified.on_1b = pitches_modified.on_1b.astype(int).astype(str)\n",
    "pitches_modified.on_2b = pitches_modified.on_2b.astype(int).astype(str)\n",
    "pitches_modified.on_3b = pitches_modified.on_3b.astype(int).astype(str)\n",
    "\n",
    "pitches_modified['bases_state'] = pitches_modified.on_1b + pitches_modified.on_2b + pitches_modified.on_3b \n",
    "# Categories (8, object): ['000', '001', '010', '011', '100', '101', '110', '111']\n",
    "pitches_modified['bases_state'] = pitches_modified['bases_state'].astype('category')"
   ]
  },
  {
   "cell_type": "code",
   "execution_count": 9,
   "metadata": {},
   "outputs": [],
   "source": [
    "\n",
    "pitches_modified['is_home'] = pitches_modified['top']\n",
    "pitches_modified['score_diff'] = (pitches_modified.is_home)*(pitches_modified.home_team_runs - pitches_modified.away_team_runs) + (pitches_modified.is_home - 1)*(pitches_modified.home_team_runs - pitches_modified.away_team_runs)\n",
    "pitches_modified['height_inches'] = pitches_modified['b_height'].apply(lambda x : int(x.split(\"-\")[0])*12 + int(x.split(\"-\")[1]))"
   ]
  },
  {
   "cell_type": "code",
   "execution_count": 10,
   "metadata": {},
   "outputs": [],
   "source": [
    "cols_for_previous = ['pitch_type', 'type', 'end_speed', 'break_length', 'break_angle', 'break_y', 'zone', 'spin_dir', 'spin_rate']\n",
    "cols_for_previous_names = ['prev_' + x for x in cols_for_previous]\n",
    "\n",
    "pitches_modified[cols_for_previous_names] = pitches_modified.groupby([\"pitcher_id\", \"game_pk\", \"at_bat_num\"])[cols_for_previous].shift(1)"
   ]
  },
  {
   "cell_type": "code",
   "execution_count": 11,
   "metadata": {},
   "outputs": [],
   "source": [
    "cols_to_keep = ['uid'] + targets + games_features + count_features + batter_features + cols_for_previous_names"
   ]
  },
  {
   "cell_type": "code",
   "execution_count": 12,
   "metadata": {},
   "outputs": [],
   "source": [
    "dataset = pitches_modified[cols_to_keep].copy(deep=True)\n",
    "\n",
    "\n",
    "dataset.pitch_type = dataset.pitch_type.astype(\"category\")\n",
    "dataset.inning = dataset.inning.astype(\"category\")\n",
    "dataset.p_throws = dataset.p_throws.astype(\"category\")\n",
    "dataset.stand = dataset.stand.astype(\"category\")\n",
    "dataset.top = dataset.top.astype(\"boolean\")\n",
    "\n",
    "dataset.prev_pitch_type = dataset.prev_pitch_type.astype(\"category\")\n",
    "dataset.prev_type = dataset.stand.astype(\"category\")"
   ]
  },
  {
   "cell_type": "code",
   "execution_count": 13,
   "metadata": {},
   "outputs": [],
   "source": [
    "#dataset.to_pickle(\"data/dataset.pkl\")"
   ]
  },
  {
   "cell_type": "code",
   "execution_count": 14,
   "metadata": {},
   "outputs": [],
   "source": [
    "'''\n",
    "Compile \"advanced dataset\" with better pitcher/batter profiles\n",
    "\n",
    "Previous Pitch tendencies:\n",
    "    Previous 5 Pitch Tendency Continuous\n",
    "    Previous 10 Pitch Tendency Continuous\n",
    "    Previous 20 Pitch Tendency Continuous\n",
    "Previous Strike tendencies:\n",
    "    Previous 5 Pitch Strike Tendency Continuous\n",
    "    Previous 10 Pitch Strike Tendency Continuous\n",
    "    Previous 20 Pitch Strike Tendency Continuous\n",
    "Pitcher Historical Tendency Continuous\n",
    "Pitcher Tendency vs. Batter Continuous\n",
    "\n",
    "Batter Stats:\n",
    "    Batter Strike Tendency Continuous\n",
    "    Batter In-Play Tendency Continuous\n",
    "    Batter Ball Tendency Continuous\n",
    "'''\n",
    "\n",
    "advanced_dataset = pitches_modified.sort_values(['pitcher_id', 'game_pk', 'pcount_pitcher']).reset_index(drop=True)\n",
    "all_type_names = pitches_modified.pitch_type.unique()"
   ]
  },
  {
   "cell_type": "code",
   "execution_count": 23,
   "metadata": {},
   "outputs": [],
   "source": [
    "def group_func(pitcher_specific_df, K):\n",
    "    k_previous_types_dist = np.zeros((pitcher_specific_df.shape[0], len(all_type_names)))\n",
    "    k_previous_types_dist[0:K, :] = np.nan\n",
    "    \n",
    "    for i in range(K, pitcher_specific_df.shape[0]):    # first pitch has no previous, store with nan\n",
    "        min_index = max(0,i-K)\n",
    "        slice = pitcher_specific_df.iloc[min_index:i,:] # get K previous pitches\n",
    "        type_distribution = slice.pitch_type.value_counts(normalize=True)   # get rates each type thrown\n",
    "        not_present_types = list(set(all_type_names) - set(type_distribution.index))  # get all the types not thrown by that pitcher within K pitches\n",
    "        not_present_types_with_zeros = pd.Series(len(not_present_types)*[0.0], index = not_present_types)   # identify that these types were thrown 0% of the time\n",
    "        full_type_distribution = pd.concat([type_distribution, not_present_types_with_zeros]).sort_index()  # sort so order the same\n",
    "        k_previous_types_dist[i] = full_type_distribution   # store in array\n",
    "\n",
    "    return pd.DataFrame(k_previous_types_dist, columns=all_type_names)\n"
   ]
  },
  {
   "cell_type": "code",
   "execution_count": 26,
   "metadata": {},
   "outputs": [],
   "source": [
    "prev_5_col_names = [f'prev_5_' + f\"{name}_%\" for name in np.sort(all_type_names).tolist()]\n",
    "prev_5_new_cols = advanced_dataset.groupby(\"pitcher_id\").apply(group_func, K=5)\n",
    "advanced_dataset.loc[:,prev_5_col_names] = prev_5_new_cols.values"
   ]
  },
  {
   "cell_type": "code",
   "execution_count": 64,
   "metadata": {},
   "outputs": [],
   "source": [
    "prev_10_col_names = [f'prev_10_' + f\"{name}_%\" for name in np.sort(all_type_names).tolist()]\n",
    "prev_10_new_cols = advanced_dataset.groupby(\"pitcher_id\").apply(group_func, K=10)\n",
    "advanced_dataset.loc[:,prev_10_col_names] = prev_10_new_cols.values"
   ]
  },
  {
   "cell_type": "code",
   "execution_count": 65,
   "metadata": {},
   "outputs": [],
   "source": [
    "prev_20_col_names = [f'prev_20_' + f\"{name}_%\" for name in np.sort(all_type_names).tolist()]\n",
    "prev_20_new_cols = advanced_dataset.groupby(\"pitcher_id\").apply(group_func, K=20)\n",
    "advanced_dataset.loc[:,prev_20_col_names] = prev_20_new_cols.values"
   ]
  },
  {
   "cell_type": "code",
   "execution_count": 154,
   "metadata": {},
   "outputs": [],
   "source": [
    "strike_ball_hit_names = advanced_dataset.type.unique()\n",
    "def add_pitch_strike_tendencies(pitcher_specific_df, K):\n",
    "    k_previous_types_dist = np.zeros((pitcher_specific_df.shape[0], len(strike_ball_hit_names)))\n",
    "    k_previous_types_dist[0:K, :] = np.nan\n",
    "    \n",
    "    for i in range(K, pitcher_specific_df.shape[0]):    # first pitch has no previous, store with nan\n",
    "        min_index = max(0,i-K)\n",
    "        slice = pitcher_specific_df.iloc[min_index:i,:] # get K previous pitches\n",
    "        type_distribution = slice.type.value_counts(normalize=True)   # get rates each type thrown\n",
    "        not_present_types = list(set(strike_ball_hit_names) - set(type_distribution.index))  # get all the types not thrown by that pitcher within K pitches\n",
    "        not_present_types_with_zeros = pd.Series(len(not_present_types)*[0.0], index = not_present_types)   # identify that these types were thrown 0% of the time\n",
    "        full_type_distribution = pd.concat([type_distribution, not_present_types_with_zeros]).sort_index()  # sort so order the same\n",
    "        k_previous_types_dist[i] = full_type_distribution   # store in array\n",
    "\n",
    "    return pd.DataFrame(k_previous_types_dist, columns=strike_ball_hit_names)"
   ]
  },
  {
   "cell_type": "code",
   "execution_count": 188,
   "metadata": {},
   "outputs": [],
   "source": [
    "# add previous strike tendencies\n",
    "for k in [5,10,20]:\n",
    "    prev_k_col_names = [f'prev_{k}_' + f\"{name}_%\" for name in np.sort(strike_ball_hit_names).tolist()]\n",
    "    prev_k_new_cols = advanced_dataset.groupby(\"pitcher_id\").apply(add_pitch_strike_tendencies, K=k)\n",
    "    advanced_dataset.loc[:,prev_k_col_names] = prev_k_new_cols.values"
   ]
  },
  {
   "cell_type": "code",
   "execution_count": 158,
   "metadata": {},
   "outputs": [],
   "source": [
    "# don't start counting till K_start\n",
    "def add_pitcher_historical_tendencies(pitcher_specific_df, K_start):\n",
    "    k_previous_types_dist = np.zeros((pitcher_specific_df.shape[0], len(all_type_names)))\n",
    "    k_previous_types_dist[0:K_start, :] = np.nan\n",
    "    \n",
    "    for i in range(K_start, pitcher_specific_df.shape[0]):    # first pitch has no previous, store with nan\n",
    "        slice = pitcher_specific_df.iloc[0:i,:] # get K previous pitches\n",
    "        type_distribution = slice.pitch_type.value_counts(normalize=True)   # get rates each type thrown\n",
    "        not_present_types = list(set(all_type_names) - set(type_distribution.index))  # get all the types not thrown by that pitcher within K pitches\n",
    "        not_present_types_with_zeros = pd.Series(len(not_present_types)*[0.0], index = not_present_types)   # identify that these types were thrown 0% of the time\n",
    "        full_type_distribution = pd.concat([type_distribution, not_present_types_with_zeros]).sort_index()  # sort so order the same\n",
    "        k_previous_types_dist[i] = full_type_distribution   # store in array\n",
    "\n",
    "    return pd.DataFrame(k_previous_types_dist, columns=all_type_names)"
   ]
  },
  {
   "cell_type": "code",
   "execution_count": 160,
   "metadata": {},
   "outputs": [],
   "source": [
    "historical_col_names = [f'historical_' + f\"{name}_%\" for name in np.sort(all_type_names).tolist()]\n",
    "historical_new_cols = advanced_dataset.groupby(\"pitcher_id\").apply(add_pitcher_historical_tendencies, K_start=21)\n",
    "advanced_dataset.loc[:,historical_col_names] = historical_new_cols.values"
   ]
  },
  {
   "cell_type": "code",
   "execution_count": 165,
   "metadata": {},
   "outputs": [],
   "source": [
    "pit_v_bat_types_dist = np.zeros((advanced_dataset.shape[0], len(all_type_names)))\n",
    "# only take last 20 instances\n",
    "for i in range(advanced_dataset.shape[0]):\n",
    "    pitcher_id = advanced_dataset.iloc[i,:]['pitcher_id']\n",
    "    batter_id = advanced_dataset.iloc[i,:]['batter_id']\n",
    "    slice = advanced_dataset.iloc[0:i,:].query(\"pitcher_id == @pitcher_id and batter_id == @batter_id\").tail(20)\n",
    "    if slice.shape[0] == 0:\n",
    "        pit_v_bat_types_dist[i] = np.nan    \n",
    "    else:\n",
    "        type_distribution = slice.pitch_type.value_counts(normalize=True)   # get rates each type thrown\n",
    "        not_present_types = list(set(all_type_names) - set(type_distribution.index))  # get all the types not thrown by that pitcher within K pitches\n",
    "        not_present_types_with_zeros = pd.Series(len(not_present_types)*[0.0], index = not_present_types)   # identify that these types were thrown 0% of the time\n",
    "        full_type_distribution = pd.concat([type_distribution, not_present_types_with_zeros]).sort_index()  # sort so order the same\n",
    "        pit_v_bat_types_dist[i] = full_type_distribution   # store in array"
   ]
  },
  {
   "cell_type": "code",
   "execution_count": 168,
   "metadata": {},
   "outputs": [],
   "source": [
    "pit_v_bat_col_names = [f'pit_v_bat_' + f\"{name}_%\" for name in np.sort(all_type_names).tolist()]\n",
    "advanced_dataset.loc[:,pit_v_bat_col_names] = pit_v_bat_types_dist"
   ]
  },
  {
   "cell_type": "code",
   "execution_count": 184,
   "metadata": {},
   "outputs": [],
   "source": [
    "strike_ball_hit_names = advanced_dataset.type.unique()\n",
    "def add_batter_strike_tendencies(batter_specific_df, K_start):\n",
    "    k_previous_types_dist = np.zeros((batter_specific_df.shape[0], len(strike_ball_hit_names)))\n",
    "    k_previous_types_dist[0:K_start, :] = np.nan\n",
    "    \n",
    "    for i in range(K_start, batter_specific_df.shape[0]):    # first pitch has no previous, store with nan\n",
    "        slice = batter_specific_df.iloc[0:i,:] # get K previous pitches\n",
    "        type_distribution = slice.type.value_counts(normalize=True)   # get rates each type thrown\n",
    "        not_present_types = list(set(strike_ball_hit_names) - set(type_distribution.index))  # get all the types not thrown by that pitcher within K pitches\n",
    "        not_present_types_with_zeros = pd.Series(len(not_present_types)*[0.0], index = not_present_types)   # identify that these types were thrown 0% of the time\n",
    "        full_type_distribution = pd.concat([type_distribution, not_present_types_with_zeros]).sort_index()  # sort so order the same\n",
    "        k_previous_types_dist[i] = full_type_distribution   # store in array\n",
    "\n",
    "    return pd.DataFrame(k_previous_types_dist, columns=strike_ball_hit_names)"
   ]
  },
  {
   "cell_type": "code",
   "execution_count": 189,
   "metadata": {},
   "outputs": [],
   "source": [
    "advanced_dataset = advanced_dataset.sort_values(['batter_id', 'game_pk', 'pcount_at_bat']).reset_index(drop=True)\n",
    "historical_batter_col_names = [f'historical_batter_' + f\"{name}_%\" for name in np.sort(strike_ball_hit_names).tolist()]\n",
    "historical_batter_new_cols = advanced_dataset.groupby(\"batter_id\").apply(add_batter_strike_tendencies, K_start=21)\n",
    "advanced_dataset.loc[:,historical_batter_col_names] = historical_batter_new_cols.values\n",
    "advanced_dataset = advanced_dataset.sort_values(['pitcher_id', 'game_pk', 'pcount_pitcher']).reset_index(drop=True)"
   ]
  },
  {
   "cell_type": "code",
   "execution_count": null,
   "metadata": {},
   "outputs": [],
   "source": []
  },
  {
   "cell_type": "code",
   "execution_count": 196,
   "metadata": {},
   "outputs": [],
   "source": [
    "# all_type_names = advanced_dataset.pitch_type.unique()\n",
    "# strike_ball_hit_names = advanced_dataset.type.unique()\n",
    "\n",
    "# targets = ['pitch_type', 'type_confidence']\n",
    "# games_features = ['inning', 'top', 'score_diff', 'at_bat_num', 'p_throws', 'pcount_pitcher', 'bases_state', 'pitcher_id']\n",
    "# count_features = ['pcount_at_bat', 'balls', 'strikes', 'outs']\n",
    "# batter_features = ['stand', 'height_inches']\n",
    "# cols_for_previous = ['pitch_type', 'type', 'end_speed', 'break_length', 'break_angle', 'break_y', 'zone', 'spin_dir', 'spin_rate']\n",
    "# cols_for_previous_names = ['prev_' + x for x in cols_for_previous]\n",
    "\n",
    "# prev_5_col_names = [f'prev_5_' + f\"{name}_%\" for name in np.sort(all_type_names).tolist()]\n",
    "# prev_10_col_names = [f'prev_10_' + f\"{name}_%\" for name in np.sort(all_type_names).tolist()]\n",
    "# prev_20_col_names = [f'prev_20_' + f\"{name}_%\" for name in np.sort(all_type_names).tolist()]\n",
    "prev_5_col_names_strike = [f'prev_5_' + f\"{name}_%\" for name in np.sort(strike_ball_hit_names).tolist()]\n",
    "prev_10_col_names_strike = [f'prev_10_' + f\"{name}_%\" for name in np.sort(strike_ball_hit_names).tolist()]\n",
    "prev_20_col_names_strike = [f'prev_20_' + f\"{name}_%\" for name in np.sort(strike_ball_hit_names).tolist()]\n",
    "# historical_col_names = [f'historical_' + f\"{name}_%\" for name in np.sort(all_type_names).tolist()]\n",
    "# pit_v_bat_col_names = [f'pit_v_bat_' + f\"{name}_%\" for name in np.sort(all_type_names).tolist()]\n",
    "# historical_batter_col_names = [f'historical_batter_' + f\"{name}_%\" for name in np.sort(strike_ball_hit_names).tolist()]\n",
    "\n",
    "cols_to_keep = ['uid'] + targets + games_features + count_features + batter_features + cols_for_previous_names \\\n",
    "                + prev_5_col_names + prev_10_col_names + prev_20_col_names + prev_5_col_names_strike + prev_10_col_names_strike \\\n",
    "                + prev_20_col_names_strike + historical_col_names + pit_v_bat_col_names + historical_batter_col_names\n",
    "\n",
    "advanced_dataset_to_keep = advanced_dataset[cols_to_keep].copy(deep=True)\n",
    "\n",
    "advanced_dataset_to_keep.pitch_type = advanced_dataset_to_keep.pitch_type.astype(\"category\")\n",
    "advanced_dataset_to_keep.inning = advanced_dataset_to_keep.inning.astype(\"category\")\n",
    "advanced_dataset_to_keep.p_throws = advanced_dataset_to_keep.p_throws.astype(\"category\")\n",
    "advanced_dataset_to_keep.stand = advanced_dataset_to_keep.stand.astype(\"category\")\n",
    "advanced_dataset_to_keep.top = advanced_dataset_to_keep.top.astype(\"boolean\")\n",
    "\n",
    "advanced_dataset_to_keep.prev_pitch_type = advanced_dataset_to_keep.prev_pitch_type.astype(\"category\")\n",
    "advanced_dataset_to_keep.prev_type = advanced_dataset_to_keep.stand.astype(\"category\")\n",
    "advanced_dataset_to_keep = advanced_dataset_to_keep.sort_values(\"uid\") # so same order as dataset"
   ]
  },
  {
   "cell_type": "code",
   "execution_count": 197,
   "metadata": {},
   "outputs": [],
   "source": [
    "advanced_dataset_to_keep.to_pickle(\"data/advanced_dataset_final.pkl\")"
   ]
  }
 ],
 "metadata": {
  "kernelspec": {
   "display_name": "bdb_2024",
   "language": "python",
   "name": "python3"
  },
  "language_info": {
   "codemirror_mode": {
    "name": "ipython",
    "version": 3
   },
   "file_extension": ".py",
   "mimetype": "text/x-python",
   "name": "python",
   "nbconvert_exporter": "python",
   "pygments_lexer": "ipython3",
   "version": "3.8.18"
  }
 },
 "nbformat": 4,
 "nbformat_minor": 2
}
