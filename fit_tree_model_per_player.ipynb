{
 "cells": [
  {
   "cell_type": "code",
   "execution_count": 1,
   "metadata": {},
   "outputs": [],
   "source": [
    "import pandas as pd\n",
    "import numpy as np\n",
    "import matplotlib.pyplot as plt\n",
    "import optuna\n",
    "import pickle\n",
    "import os\n",
    "\n",
    "from sklearn.model_selection import GridSearchCV\n",
    "from sklearn.model_selection import cross_val_score, KFold\n",
    "from sklearn.model_selection import cross_val_predict\n",
    "from sklearn.preprocessing import LabelEncoder\n",
    "\n",
    "from sklearn.metrics import confusion_matrix, ConfusionMatrixDisplay, classification_report\n",
    "\n",
    "import xgboost as xgb\n",
    "from xgboost import plot_importance"
   ]
  },
  {
   "cell_type": "code",
   "execution_count": 2,
   "metadata": {},
   "outputs": [],
   "source": [
    "pd.set_option('display.max_columns', None)\n",
    "pd.set_option('display.max_rows', 125)\n",
    "\n",
    "optuna.logging.set_verbosity(optuna.logging.WARNING)"
   ]
  },
  {
   "cell_type": "code",
   "execution_count": 3,
   "metadata": {},
   "outputs": [],
   "source": [
    "model_path_name = \"base_model_per_player\"\n",
    "DIRECTORY_PATH = f\"models/{model_path_name}\"\n",
    "MODEL_INFO_FILEPATH = f\"{DIRECTORY_PATH}/info.txt\""
   ]
  },
  {
   "cell_type": "code",
   "execution_count": 24,
   "metadata": {},
   "outputs": [],
   "source": [
    "if not os.path.exists(DIRECTORY_PATH):\n",
    "    os.makedirs(DIRECTORY_PATH)\n",
    "with open(MODEL_INFO_FILEPATH, \"w\") as text_file:\n",
    "    print(f\"##### MODEL INFO #####\", file=text_file)\n",
    "    print(f\"- Here we are creating a model for every pitcher with at least 500 pitches \\n \", file=text_file)"
   ]
  },
  {
   "cell_type": "code",
   "execution_count": 5,
   "metadata": {},
   "outputs": [],
   "source": [
    "dataset = pd.read_pickle(\"data/dataset.pkl\")\n",
    "MIN_SIZE = 500"
   ]
  },
  {
   "cell_type": "code",
   "execution_count": 6,
   "metadata": {},
   "outputs": [
    {
     "name": "stdout",
     "output_type": "stream",
     "text": [
      "711841\n",
      "569472.8\n",
      "71184.1\n"
     ]
    }
   ],
   "source": [
    "print(dataset.shape[0])\n",
    "print(dataset.shape[0]*.80)\n",
    "print(dataset.shape[0]*.10)"
   ]
  },
  {
   "cell_type": "code",
   "execution_count": 7,
   "metadata": {},
   "outputs": [],
   "source": [
    "dataset = dataset.groupby('pitcher_id').filter(lambda x: x.shape[0] >= MIN_SIZE)"
   ]
  },
  {
   "cell_type": "code",
   "execution_count": 25,
   "metadata": {},
   "outputs": [],
   "source": [
    "with open(MODEL_INFO_FILEPATH, \"a\") as text_file:\n",
    "    print(f\"Features used = {dataset.columns.to_list()}\", file=text_file)"
   ]
  },
  {
   "cell_type": "code",
   "execution_count": 8,
   "metadata": {},
   "outputs": [
    {
     "name": "stdout",
     "output_type": "stream",
     "text": [
      "657015\n",
      "Num unique pitchers = 406\n"
     ]
    }
   ],
   "source": [
    "print(dataset.shape[0])\n",
    "print(f\"Num unique pitchers = {len(dataset.pitcher_id.unique())}\")"
   ]
  },
  {
   "cell_type": "code",
   "execution_count": 9,
   "metadata": {},
   "outputs": [],
   "source": [
    "def objective(trial, train_X, train_y, val_X, val_y):\n",
    "    param = {\"max_depth\":    trial.suggest_categorical('max_depth', [2, 3, 4, 5, 6, 7, 8, 9, 10]),\n",
    "              \"learning_rate\": trial.suggest_float('learning_rate', 0.01, 0.5, log=True),\n",
    "              \"n_estimators\": trial.suggest_int('n_estimators', 100, 1000,step=100),\n",
    "              \"subsample\" : trial.suggest_float('subsample', 0.1, 1, step=0.1),\n",
    "              \"min_child_weight\" : trial.suggest_int('min_child_weight', 1, 10, step=1), \n",
    "              \"colsample_bytree\" : trial.suggest_float('subsample', 0.1, 1, step=0.1),\n",
    "            }\n",
    "    \n",
    "    clf = xgb.XGBClassifier(tree_method=\"hist\", enable_categorical=True, early_stopping_rounds=10,\n",
    "                            objective='multi:softmax', eval_metric=['merror','mlogloss'], **param)\n",
    "    clf.fit(train_X, train_y, eval_set=[(val_X, val_y)], verbose=0)\n",
    "    \n",
    "    best_merror = clf.evals_result()['validation_0']['merror'][clf.best_iteration]\n",
    "    return best_merror\n"
   ]
  },
  {
   "cell_type": "code",
   "execution_count": 10,
   "metadata": {},
   "outputs": [],
   "source": [
    "''' \n",
    "'model_1' : {   'model' : clf,\n",
    "                'merror' : val,\n",
    "                'mlogloss' : val,\n",
    "                }\n",
    "'''\n",
    "info_dict = dict()\n",
    "stats_df = pd.DataFrame(columns=['merror', 'mlogloss'])"
   ]
  },
  {
   "cell_type": "code",
   "execution_count": 12,
   "metadata": {},
   "outputs": [],
   "source": [
    "\n",
    "''' \n",
    "pitcher_id : id of pitcher to use for model\n",
    "info_dict : where to store model and stats\n",
    "'''\n",
    "def train_individual_model(pitcher_id, full_dataset, info_dict, stats_df):\n",
    "    pitcher_dataset = full_dataset.query(\"pitcher_id == @pitcher_id\")\n",
    "\n",
    "    train_index_stop = int(pitcher_dataset.shape[0]*0.8)\n",
    "    val_index_stop = train_index_stop + (pitcher_dataset.shape[0]-train_index_stop)//2\n",
    "\n",
    "    training_set = pitcher_dataset.iloc[0:train_index_stop, :]\n",
    "    validation_set = pitcher_dataset.iloc[train_index_stop:val_index_stop, :]\n",
    "    test_set = pitcher_dataset.iloc[val_index_stop:,]\n",
    "\n",
    "    train_X = training_set.drop([\"uid\", \"pitch_type\", \"type_confidence\", \"pitcher_id\"],axis=1)\n",
    "    train_y = training_set['pitch_type']\n",
    "\n",
    "    val_X = validation_set.drop([\"uid\", \"pitch_type\", \"type_confidence\", \"pitcher_id\"],axis=1)\n",
    "    val_y = validation_set['pitch_type']\n",
    "\n",
    "    #test_X = test_set.drop([\"uid\", \"pitch_type\", \"type_confidence\", \"pitcher_id\"],axis=1)\n",
    "    #test_y = test_set['pitch_type']\n",
    "\n",
    "    encoder=LabelEncoder()\n",
    "    train_y = encoder.fit_transform(train_y)    # xgboost labels need to be 0,...,n-1, so can't have same labels for all models bc some pitchers don't have all labels\n",
    "    val_y = encoder.fit_transform(val_y)\n",
    "    #test_y = encoder.fit_transform(test_y)\n",
    "\n",
    "    study = optuna.create_study(direction=\"minimize\")\n",
    "    study.optimize(lambda trial: objective(trial, train_X, train_y, val_X, val_y), n_trials=10)\n",
    "    #print(study.best_trial)\n",
    "    clf = xgb.XGBClassifier(tree_method=\"hist\", enable_categorical=True, early_stopping_rounds=10,\n",
    "                                            objective='objective=multi:softmax', eval_metric=['merror','mlogloss'], **study.best_params)\n",
    "    clf.fit(train_X, train_y, eval_set=[(val_X, val_y)], verbose=0)\n",
    "    best_val_merror = clf.evals_result()['validation_0']['merror'][clf.best_iteration]\n",
    "    best_val_mlogloss = clf.evals_result()['validation_0']['mlogloss'][clf.best_iteration]\n",
    "\n",
    "    model_dict = {\n",
    "        'model_params' : study.best_params,\n",
    "        'merror' : best_val_merror, \n",
    "        'mlogloss' : best_val_mlogloss,\n",
    "        'n' : pitcher_dataset.shape[0]\n",
    "    }\n",
    "    info_dict[f\"model_{pitcher_id}\"] = model_dict\n",
    "    stats_df.loc[pitcher_id] = [best_val_merror,best_val_mlogloss]\n",
    "\n",
    "    num_wrong = best_val_merror*val_X.shape[0]\n",
    "    return num_wrong, val_X.shape[0]\n",
    "\n",
    "#print(f\"Splits = train n ={train_index_stop}, val n = {val_index_stop}\")"
   ]
  },
  {
   "cell_type": "code",
   "execution_count": null,
   "metadata": {},
   "outputs": [],
   "source": []
  },
  {
   "cell_type": "code",
   "execution_count": 13,
   "metadata": {},
   "outputs": [
    {
     "name": "stderr",
     "output_type": "stream",
     "text": [
      "[W 2024-04-20 19:00:17,419] Trial 0 failed with parameters: {'max_depth': 2, 'learning_rate': 0.0213596670188526, 'n_estimators': 700, 'subsample': 0.5, 'min_child_weight': 8} because of the following error: XGBoostError('value 0 for Parameter num_class should be greater equal to 1\\nnum_class: Number of output class in the multi-class classification.').\n",
      "Traceback (most recent call last):\n",
      "  File \"/Users/scottmaran/.pyenv/versions/3.8.18/envs/swish_bb/lib/python3.8/site-packages/optuna/study/_optimize.py\", line 196, in _run_trial\n",
      "    value_or_values = func(trial)\n",
      "  File \"/var/folders/_w/4wq7jf9n3c74v00gxl_2v81r0000gn/T/ipykernel_47812/1150918720.py\", line 30, in <lambda>\n",
      "    study.optimize(lambda trial: objective(trial, train_X, train_y, val_X, val_y), n_trials=10)\n",
      "  File \"/var/folders/_w/4wq7jf9n3c74v00gxl_2v81r0000gn/T/ipykernel_47812/689406351.py\", line 12, in objective\n",
      "    clf.fit(train_X, train_y, eval_set=[(val_X, val_y)], verbose=0)\n",
      "  File \"/Users/scottmaran/.pyenv/versions/3.8.18/envs/swish_bb/lib/python3.8/site-packages/xgboost/core.py\", line 730, in inner_f\n",
      "    return func(**kwargs)\n",
      "  File \"/Users/scottmaran/.pyenv/versions/3.8.18/envs/swish_bb/lib/python3.8/site-packages/xgboost/sklearn.py\", line 1519, in fit\n",
      "    self._Booster = train(\n",
      "  File \"/Users/scottmaran/.pyenv/versions/3.8.18/envs/swish_bb/lib/python3.8/site-packages/xgboost/core.py\", line 730, in inner_f\n",
      "    return func(**kwargs)\n",
      "  File \"/Users/scottmaran/.pyenv/versions/3.8.18/envs/swish_bb/lib/python3.8/site-packages/xgboost/training.py\", line 176, in train\n",
      "    bst = cb_container.before_training(bst)\n",
      "  File \"/Users/scottmaran/.pyenv/versions/3.8.18/envs/swish_bb/lib/python3.8/site-packages/xgboost/callback.py\", line 159, in before_training\n",
      "    model = c.before_training(model=model)\n",
      "  File \"/Users/scottmaran/.pyenv/versions/3.8.18/envs/swish_bb/lib/python3.8/site-packages/xgboost/callback.py\", line 354, in before_training\n",
      "    self.starting_round = model.num_boosted_rounds()\n",
      "  File \"/Users/scottmaran/.pyenv/versions/3.8.18/envs/swish_bb/lib/python3.8/site-packages/xgboost/core.py\", line 2634, in num_boosted_rounds\n",
      "    _check_call(_LIB.XGBoosterBoostedRounds(self.handle, ctypes.byref(rounds)))\n",
      "  File \"/Users/scottmaran/.pyenv/versions/3.8.18/envs/swish_bb/lib/python3.8/site-packages/xgboost/core.py\", line 282, in _check_call\n",
      "    raise XGBoostError(py_str(_LIB.XGBGetLastError()))\n",
      "xgboost.core.XGBoostError: value 0 for Parameter num_class should be greater equal to 1\n",
      "num_class: Number of output class in the multi-class classification.\n",
      "[W 2024-04-20 19:00:17,423] Trial 0 failed with value None.\n"
     ]
    },
    {
     "name": "stdout",
     "output_type": "stream",
     "text": [
      "Failed at id 121250\n"
     ]
    },
    {
     "name": "stderr",
     "output_type": "stream",
     "text": [
      "[W 2024-04-20 19:02:27,855] Trial 0 failed with parameters: {'max_depth': 5, 'learning_rate': 0.05621582367079576, 'n_estimators': 1000, 'subsample': 0.2, 'min_child_weight': 8} because of the following error: XGBoostError(\"[19:02:27] /Users/runner/work/xgboost/xgboost/src/metric/multiclass_metric.cu:35: Check failed: label_error >= 0 && label_error < static_cast<int32_t>(n_class): MultiClassEvaluation: label must be in [0, num_class), num_class=4 but found 4 in label\\nStack trace:\\n  [bt] (0) 1   libxgboost.dylib                    0x00000001664f0994 dmlc::LogMessageFatal::~LogMessageFatal() + 124\\n  [bt] (1) 2   libxgboost.dylib                    0x0000000166671920 xgboost::metric::MultiClassMetricsReduction<xgboost::metric::EvalMatchError>::CheckLabelError(int, unsigned long) const + 204\\n  [bt] (2) 3   libxgboost.dylib                    0x00000001666717c0 xgboost::metric::MultiClassMetricsReduction<xgboost::metric::EvalMatchError>::CpuReduceMetrics(xgboost::HostDeviceVector<float> const&, xgboost::HostDeviceVector<float> const&, xgboost::HostDeviceVector<float> const&, unsigned long, int) const + 568\\n  [bt] (3) 4   libxgboost.dylib                    0x00000001666714c0 xgboost::metric::EvalMClassBase<xgboost::metric::EvalMatchError>::Eval(xgboost::HostDeviceVector<float> const&, xgboost::MetaInfo const&) + 832\\n  [bt] (4) 5   libxgboost.dylib                    0x000000016665efb4 void xgboost::collective::ApplyWithLabels<xgboost::MetricNoCache::Evaluate(xgboost::HostDeviceVector<float> const&, std::__1::shared_ptr<xgboost::DMatrix>)::'lambda'()>(xgboost::MetaInfo const&, void*, unsigned long, xgboost::MetricNoCache::Evaluate(xgboost::HostDeviceVector<float> const&, std::__1::shared_ptr<xgboost::DMatrix>)::'lambda'()&&) + 380\\n  [bt] (5) 6   libxgboost.dylib                    0x000000016665e570 xgboost::MetricNoCache::Evaluate(xgboost::HostDeviceVector<float> const&, std::__1::shared_ptr<xgboost::DMatrix>) + 72\\n  [bt] (6) 7   libxgboost.dylib                    0x0000000166639084 xgboost::LearnerImpl::EvalOneIter(int, std::__1::vector<std::__1::shared_ptr<xgboost::DMatrix>, std::__1::allocator<std::__1::shared_ptr<xgboost::DMatrix> > > const&, std::__1::vector<std::__1::basic_string<char, std::__1::char_traits<char>, std::__1::allocator<char> >, std::__1::allocator<std::__1::basic_string<char, std::__1::char_traits<char>, std::__1::allocator<char> > > > const&) + 1716\\n  [bt] (7) 8   libxgboost.dylib                    0x0000000166511624 XGBoosterEvalOneIter + 236\\n  [bt] (8) 9   libffi.dylib                        0x00000001c6134050 ffi_call_SYSV + 80\\n\\n\").\n",
      "Traceback (most recent call last):\n",
      "  File \"/Users/scottmaran/.pyenv/versions/3.8.18/envs/swish_bb/lib/python3.8/site-packages/optuna/study/_optimize.py\", line 196, in _run_trial\n",
      "    value_or_values = func(trial)\n",
      "  File \"/var/folders/_w/4wq7jf9n3c74v00gxl_2v81r0000gn/T/ipykernel_47812/1150918720.py\", line 30, in <lambda>\n",
      "    study.optimize(lambda trial: objective(trial, train_X, train_y, val_X, val_y), n_trials=10)\n",
      "  File \"/var/folders/_w/4wq7jf9n3c74v00gxl_2v81r0000gn/T/ipykernel_47812/689406351.py\", line 12, in objective\n",
      "    clf.fit(train_X, train_y, eval_set=[(val_X, val_y)], verbose=0)\n",
      "  File \"/Users/scottmaran/.pyenv/versions/3.8.18/envs/swish_bb/lib/python3.8/site-packages/xgboost/core.py\", line 730, in inner_f\n",
      "    return func(**kwargs)\n",
      "  File \"/Users/scottmaran/.pyenv/versions/3.8.18/envs/swish_bb/lib/python3.8/site-packages/xgboost/sklearn.py\", line 1519, in fit\n",
      "    self._Booster = train(\n",
      "  File \"/Users/scottmaran/.pyenv/versions/3.8.18/envs/swish_bb/lib/python3.8/site-packages/xgboost/core.py\", line 730, in inner_f\n",
      "    return func(**kwargs)\n",
      "  File \"/Users/scottmaran/.pyenv/versions/3.8.18/envs/swish_bb/lib/python3.8/site-packages/xgboost/training.py\", line 182, in train\n",
      "    if cb_container.after_iteration(bst, i, dtrain, evals):\n",
      "  File \"/Users/scottmaran/.pyenv/versions/3.8.18/envs/swish_bb/lib/python3.8/site-packages/xgboost/callback.py\", line 238, in after_iteration\n",
      "    score: str = model.eval_set(evals, epoch, self.metric, self._output_margin)\n",
      "  File \"/Users/scottmaran/.pyenv/versions/3.8.18/envs/swish_bb/lib/python3.8/site-packages/xgboost/core.py\", line 2125, in eval_set\n",
      "    _check_call(\n",
      "  File \"/Users/scottmaran/.pyenv/versions/3.8.18/envs/swish_bb/lib/python3.8/site-packages/xgboost/core.py\", line 282, in _check_call\n",
      "    raise XGBoostError(py_str(_LIB.XGBGetLastError()))\n",
      "xgboost.core.XGBoostError: [19:02:27] /Users/runner/work/xgboost/xgboost/src/metric/multiclass_metric.cu:35: Check failed: label_error >= 0 && label_error < static_cast<int32_t>(n_class): MultiClassEvaluation: label must be in [0, num_class), num_class=4 but found 4 in label\n",
      "Stack trace:\n",
      "  [bt] (0) 1   libxgboost.dylib                    0x00000001664f0994 dmlc::LogMessageFatal::~LogMessageFatal() + 124\n",
      "  [bt] (1) 2   libxgboost.dylib                    0x0000000166671920 xgboost::metric::MultiClassMetricsReduction<xgboost::metric::EvalMatchError>::CheckLabelError(int, unsigned long) const + 204\n",
      "  [bt] (2) 3   libxgboost.dylib                    0x00000001666717c0 xgboost::metric::MultiClassMetricsReduction<xgboost::metric::EvalMatchError>::CpuReduceMetrics(xgboost::HostDeviceVector<float> const&, xgboost::HostDeviceVector<float> const&, xgboost::HostDeviceVector<float> const&, unsigned long, int) const + 568\n",
      "  [bt] (3) 4   libxgboost.dylib                    0x00000001666714c0 xgboost::metric::EvalMClassBase<xgboost::metric::EvalMatchError>::Eval(xgboost::HostDeviceVector<float> const&, xgboost::MetaInfo const&) + 832\n",
      "  [bt] (4) 5   libxgboost.dylib                    0x000000016665efb4 void xgboost::collective::ApplyWithLabels<xgboost::MetricNoCache::Evaluate(xgboost::HostDeviceVector<float> const&, std::__1::shared_ptr<xgboost::DMatrix>)::'lambda'()>(xgboost::MetaInfo const&, void*, unsigned long, xgboost::MetricNoCache::Evaluate(xgboost::HostDeviceVector<float> const&, std::__1::shared_ptr<xgboost::DMatrix>)::'lambda'()&&) + 380\n",
      "  [bt] (5) 6   libxgboost.dylib                    0x000000016665e570 xgboost::MetricNoCache::Evaluate(xgboost::HostDeviceVector<float> const&, std::__1::shared_ptr<xgboost::DMatrix>) + 72\n",
      "  [bt] (6) 7   libxgboost.dylib                    0x0000000166639084 xgboost::LearnerImpl::EvalOneIter(int, std::__1::vector<std::__1::shared_ptr<xgboost::DMatrix>, std::__1::allocator<std::__1::shared_ptr<xgboost::DMatrix> > > const&, std::__1::vector<std::__1::basic_string<char, std::__1::char_traits<char>, std::__1::allocator<char> >, std::__1::allocator<std::__1::basic_string<char, std::__1::char_traits<char>, std::__1::allocator<char> > > > const&) + 1716\n",
      "  [bt] (7) 8   libxgboost.dylib                    0x0000000166511624 XGBoosterEvalOneIter + 236\n",
      "  [bt] (8) 9   libffi.dylib                        0x00000001c6134050 ffi_call_SYSV + 80\n",
      "\n",
      "\n",
      "[W 2024-04-20 19:02:27,856] Trial 0 failed with value None.\n"
     ]
    },
    {
     "name": "stdout",
     "output_type": "stream",
     "text": [
      "Failed at id 433586\n"
     ]
    },
    {
     "name": "stderr",
     "output_type": "stream",
     "text": [
      "[W 2024-04-20 19:06:07,844] Trial 0 failed with parameters: {'max_depth': 6, 'learning_rate': 0.32659315646003684, 'n_estimators': 900, 'subsample': 0.4, 'min_child_weight': 3} because of the following error: XGBoostError(\"[19:06:07] /Users/runner/work/xgboost/xgboost/src/metric/multiclass_metric.cu:35: Check failed: label_error >= 0 && label_error < static_cast<int32_t>(n_class): MultiClassEvaluation: label must be in [0, num_class), num_class=3 but found 3 in label\\nStack trace:\\n  [bt] (0) 1   libxgboost.dylib                    0x00000001664f0994 dmlc::LogMessageFatal::~LogMessageFatal() + 124\\n  [bt] (1) 2   libxgboost.dylib                    0x0000000166671920 xgboost::metric::MultiClassMetricsReduction<xgboost::metric::EvalMatchError>::CheckLabelError(int, unsigned long) const + 204\\n  [bt] (2) 3   libxgboost.dylib                    0x00000001666717c0 xgboost::metric::MultiClassMetricsReduction<xgboost::metric::EvalMatchError>::CpuReduceMetrics(xgboost::HostDeviceVector<float> const&, xgboost::HostDeviceVector<float> const&, xgboost::HostDeviceVector<float> const&, unsigned long, int) const + 568\\n  [bt] (3) 4   libxgboost.dylib                    0x00000001666714c0 xgboost::metric::EvalMClassBase<xgboost::metric::EvalMatchError>::Eval(xgboost::HostDeviceVector<float> const&, xgboost::MetaInfo const&) + 832\\n  [bt] (4) 5   libxgboost.dylib                    0x000000016665efb4 void xgboost::collective::ApplyWithLabels<xgboost::MetricNoCache::Evaluate(xgboost::HostDeviceVector<float> const&, std::__1::shared_ptr<xgboost::DMatrix>)::'lambda'()>(xgboost::MetaInfo const&, void*, unsigned long, xgboost::MetricNoCache::Evaluate(xgboost::HostDeviceVector<float> const&, std::__1::shared_ptr<xgboost::DMatrix>)::'lambda'()&&) + 380\\n  [bt] (5) 6   libxgboost.dylib                    0x000000016665e570 xgboost::MetricNoCache::Evaluate(xgboost::HostDeviceVector<float> const&, std::__1::shared_ptr<xgboost::DMatrix>) + 72\\n  [bt] (6) 7   libxgboost.dylib                    0x0000000166639084 xgboost::LearnerImpl::EvalOneIter(int, std::__1::vector<std::__1::shared_ptr<xgboost::DMatrix>, std::__1::allocator<std::__1::shared_ptr<xgboost::DMatrix> > > const&, std::__1::vector<std::__1::basic_string<char, std::__1::char_traits<char>, std::__1::allocator<char> >, std::__1::allocator<std::__1::basic_string<char, std::__1::char_traits<char>, std::__1::allocator<char> > > > const&) + 1716\\n  [bt] (7) 8   libxgboost.dylib                    0x0000000166511624 XGBoosterEvalOneIter + 236\\n  [bt] (8) 9   libffi.dylib                        0x00000001c6134050 ffi_call_SYSV + 80\\n\\n\").\n",
      "Traceback (most recent call last):\n",
      "  File \"/Users/scottmaran/.pyenv/versions/3.8.18/envs/swish_bb/lib/python3.8/site-packages/optuna/study/_optimize.py\", line 196, in _run_trial\n",
      "    value_or_values = func(trial)\n",
      "  File \"/var/folders/_w/4wq7jf9n3c74v00gxl_2v81r0000gn/T/ipykernel_47812/1150918720.py\", line 30, in <lambda>\n",
      "    study.optimize(lambda trial: objective(trial, train_X, train_y, val_X, val_y), n_trials=10)\n",
      "  File \"/var/folders/_w/4wq7jf9n3c74v00gxl_2v81r0000gn/T/ipykernel_47812/689406351.py\", line 12, in objective\n",
      "    clf.fit(train_X, train_y, eval_set=[(val_X, val_y)], verbose=0)\n",
      "  File \"/Users/scottmaran/.pyenv/versions/3.8.18/envs/swish_bb/lib/python3.8/site-packages/xgboost/core.py\", line 730, in inner_f\n",
      "    return func(**kwargs)\n",
      "  File \"/Users/scottmaran/.pyenv/versions/3.8.18/envs/swish_bb/lib/python3.8/site-packages/xgboost/sklearn.py\", line 1519, in fit\n",
      "    self._Booster = train(\n",
      "  File \"/Users/scottmaran/.pyenv/versions/3.8.18/envs/swish_bb/lib/python3.8/site-packages/xgboost/core.py\", line 730, in inner_f\n",
      "    return func(**kwargs)\n",
      "  File \"/Users/scottmaran/.pyenv/versions/3.8.18/envs/swish_bb/lib/python3.8/site-packages/xgboost/training.py\", line 182, in train\n",
      "    if cb_container.after_iteration(bst, i, dtrain, evals):\n",
      "  File \"/Users/scottmaran/.pyenv/versions/3.8.18/envs/swish_bb/lib/python3.8/site-packages/xgboost/callback.py\", line 238, in after_iteration\n",
      "    score: str = model.eval_set(evals, epoch, self.metric, self._output_margin)\n",
      "  File \"/Users/scottmaran/.pyenv/versions/3.8.18/envs/swish_bb/lib/python3.8/site-packages/xgboost/core.py\", line 2125, in eval_set\n",
      "    _check_call(\n",
      "  File \"/Users/scottmaran/.pyenv/versions/3.8.18/envs/swish_bb/lib/python3.8/site-packages/xgboost/core.py\", line 282, in _check_call\n",
      "    raise XGBoostError(py_str(_LIB.XGBGetLastError()))\n",
      "xgboost.core.XGBoostError: [19:06:07] /Users/runner/work/xgboost/xgboost/src/metric/multiclass_metric.cu:35: Check failed: label_error >= 0 && label_error < static_cast<int32_t>(n_class): MultiClassEvaluation: label must be in [0, num_class), num_class=3 but found 3 in label\n",
      "Stack trace:\n",
      "  [bt] (0) 1   libxgboost.dylib                    0x00000001664f0994 dmlc::LogMessageFatal::~LogMessageFatal() + 124\n",
      "  [bt] (1) 2   libxgboost.dylib                    0x0000000166671920 xgboost::metric::MultiClassMetricsReduction<xgboost::metric::EvalMatchError>::CheckLabelError(int, unsigned long) const + 204\n",
      "  [bt] (2) 3   libxgboost.dylib                    0x00000001666717c0 xgboost::metric::MultiClassMetricsReduction<xgboost::metric::EvalMatchError>::CpuReduceMetrics(xgboost::HostDeviceVector<float> const&, xgboost::HostDeviceVector<float> const&, xgboost::HostDeviceVector<float> const&, unsigned long, int) const + 568\n",
      "  [bt] (3) 4   libxgboost.dylib                    0x00000001666714c0 xgboost::metric::EvalMClassBase<xgboost::metric::EvalMatchError>::Eval(xgboost::HostDeviceVector<float> const&, xgboost::MetaInfo const&) + 832\n",
      "  [bt] (4) 5   libxgboost.dylib                    0x000000016665efb4 void xgboost::collective::ApplyWithLabels<xgboost::MetricNoCache::Evaluate(xgboost::HostDeviceVector<float> const&, std::__1::shared_ptr<xgboost::DMatrix>)::'lambda'()>(xgboost::MetaInfo const&, void*, unsigned long, xgboost::MetricNoCache::Evaluate(xgboost::HostDeviceVector<float> const&, std::__1::shared_ptr<xgboost::DMatrix>)::'lambda'()&&) + 380\n",
      "  [bt] (5) 6   libxgboost.dylib                    0x000000016665e570 xgboost::MetricNoCache::Evaluate(xgboost::HostDeviceVector<float> const&, std::__1::shared_ptr<xgboost::DMatrix>) + 72\n",
      "  [bt] (6) 7   libxgboost.dylib                    0x0000000166639084 xgboost::LearnerImpl::EvalOneIter(int, std::__1::vector<std::__1::shared_ptr<xgboost::DMatrix>, std::__1::allocator<std::__1::shared_ptr<xgboost::DMatrix> > > const&, std::__1::vector<std::__1::basic_string<char, std::__1::char_traits<char>, std::__1::allocator<char> >, std::__1::allocator<std::__1::basic_string<char, std::__1::char_traits<char>, std::__1::allocator<char> > > > const&) + 1716\n",
      "  [bt] (7) 8   libxgboost.dylib                    0x0000000166511624 XGBoosterEvalOneIter + 236\n",
      "  [bt] (8) 9   libffi.dylib                        0x00000001c6134050 ffi_call_SYSV + 80\n",
      "\n",
      "\n",
      "[W 2024-04-20 19:06:07,845] Trial 0 failed with value None.\n"
     ]
    },
    {
     "name": "stdout",
     "output_type": "stream",
     "text": [
      "Failed at id 121125\n"
     ]
    },
    {
     "name": "stderr",
     "output_type": "stream",
     "text": [
      "[W 2024-04-20 19:12:27,646] Trial 0 failed with parameters: {'max_depth': 9, 'learning_rate': 0.35343152850445647, 'n_estimators': 900, 'subsample': 0.5, 'min_child_weight': 4} because of the following error: XGBoostError(\"[19:12:27] /Users/runner/work/xgboost/xgboost/src/metric/multiclass_metric.cu:35: Check failed: label_error >= 0 && label_error < static_cast<int32_t>(n_class): MultiClassEvaluation: label must be in [0, num_class), num_class=5 but found 5 in label\\nStack trace:\\n  [bt] (0) 1   libxgboost.dylib                    0x00000001664f0994 dmlc::LogMessageFatal::~LogMessageFatal() + 124\\n  [bt] (1) 2   libxgboost.dylib                    0x0000000166671920 xgboost::metric::MultiClassMetricsReduction<xgboost::metric::EvalMatchError>::CheckLabelError(int, unsigned long) const + 204\\n  [bt] (2) 3   libxgboost.dylib                    0x00000001666717c0 xgboost::metric::MultiClassMetricsReduction<xgboost::metric::EvalMatchError>::CpuReduceMetrics(xgboost::HostDeviceVector<float> const&, xgboost::HostDeviceVector<float> const&, xgboost::HostDeviceVector<float> const&, unsigned long, int) const + 568\\n  [bt] (3) 4   libxgboost.dylib                    0x00000001666714c0 xgboost::metric::EvalMClassBase<xgboost::metric::EvalMatchError>::Eval(xgboost::HostDeviceVector<float> const&, xgboost::MetaInfo const&) + 832\\n  [bt] (4) 5   libxgboost.dylib                    0x000000016665efb4 void xgboost::collective::ApplyWithLabels<xgboost::MetricNoCache::Evaluate(xgboost::HostDeviceVector<float> const&, std::__1::shared_ptr<xgboost::DMatrix>)::'lambda'()>(xgboost::MetaInfo const&, void*, unsigned long, xgboost::MetricNoCache::Evaluate(xgboost::HostDeviceVector<float> const&, std::__1::shared_ptr<xgboost::DMatrix>)::'lambda'()&&) + 380\\n  [bt] (5) 6   libxgboost.dylib                    0x000000016665e570 xgboost::MetricNoCache::Evaluate(xgboost::HostDeviceVector<float> const&, std::__1::shared_ptr<xgboost::DMatrix>) + 72\\n  [bt] (6) 7   libxgboost.dylib                    0x0000000166639084 xgboost::LearnerImpl::EvalOneIter(int, std::__1::vector<std::__1::shared_ptr<xgboost::DMatrix>, std::__1::allocator<std::__1::shared_ptr<xgboost::DMatrix> > > const&, std::__1::vector<std::__1::basic_string<char, std::__1::char_traits<char>, std::__1::allocator<char> >, std::__1::allocator<std::__1::basic_string<char, std::__1::char_traits<char>, std::__1::allocator<char> > > > const&) + 1716\\n  [bt] (7) 8   libxgboost.dylib                    0x0000000166511624 XGBoosterEvalOneIter + 236\\n  [bt] (8) 9   libffi.dylib                        0x00000001c6134050 ffi_call_SYSV + 80\\n\\n\").\n",
      "Traceback (most recent call last):\n",
      "  File \"/Users/scottmaran/.pyenv/versions/3.8.18/envs/swish_bb/lib/python3.8/site-packages/optuna/study/_optimize.py\", line 196, in _run_trial\n",
      "    value_or_values = func(trial)\n",
      "  File \"/var/folders/_w/4wq7jf9n3c74v00gxl_2v81r0000gn/T/ipykernel_47812/1150918720.py\", line 30, in <lambda>\n",
      "    study.optimize(lambda trial: objective(trial, train_X, train_y, val_X, val_y), n_trials=10)\n",
      "  File \"/var/folders/_w/4wq7jf9n3c74v00gxl_2v81r0000gn/T/ipykernel_47812/689406351.py\", line 12, in objective\n",
      "    clf.fit(train_X, train_y, eval_set=[(val_X, val_y)], verbose=0)\n",
      "  File \"/Users/scottmaran/.pyenv/versions/3.8.18/envs/swish_bb/lib/python3.8/site-packages/xgboost/core.py\", line 730, in inner_f\n",
      "    return func(**kwargs)\n",
      "  File \"/Users/scottmaran/.pyenv/versions/3.8.18/envs/swish_bb/lib/python3.8/site-packages/xgboost/sklearn.py\", line 1519, in fit\n",
      "    self._Booster = train(\n",
      "  File \"/Users/scottmaran/.pyenv/versions/3.8.18/envs/swish_bb/lib/python3.8/site-packages/xgboost/core.py\", line 730, in inner_f\n",
      "    return func(**kwargs)\n",
      "  File \"/Users/scottmaran/.pyenv/versions/3.8.18/envs/swish_bb/lib/python3.8/site-packages/xgboost/training.py\", line 182, in train\n",
      "    if cb_container.after_iteration(bst, i, dtrain, evals):\n",
      "  File \"/Users/scottmaran/.pyenv/versions/3.8.18/envs/swish_bb/lib/python3.8/site-packages/xgboost/callback.py\", line 238, in after_iteration\n",
      "    score: str = model.eval_set(evals, epoch, self.metric, self._output_margin)\n",
      "  File \"/Users/scottmaran/.pyenv/versions/3.8.18/envs/swish_bb/lib/python3.8/site-packages/xgboost/core.py\", line 2125, in eval_set\n",
      "    _check_call(\n",
      "  File \"/Users/scottmaran/.pyenv/versions/3.8.18/envs/swish_bb/lib/python3.8/site-packages/xgboost/core.py\", line 282, in _check_call\n",
      "    raise XGBoostError(py_str(_LIB.XGBGetLastError()))\n",
      "xgboost.core.XGBoostError: [19:12:27] /Users/runner/work/xgboost/xgboost/src/metric/multiclass_metric.cu:35: Check failed: label_error >= 0 && label_error < static_cast<int32_t>(n_class): MultiClassEvaluation: label must be in [0, num_class), num_class=5 but found 5 in label\n",
      "Stack trace:\n",
      "  [bt] (0) 1   libxgboost.dylib                    0x00000001664f0994 dmlc::LogMessageFatal::~LogMessageFatal() + 124\n",
      "  [bt] (1) 2   libxgboost.dylib                    0x0000000166671920 xgboost::metric::MultiClassMetricsReduction<xgboost::metric::EvalMatchError>::CheckLabelError(int, unsigned long) const + 204\n",
      "  [bt] (2) 3   libxgboost.dylib                    0x00000001666717c0 xgboost::metric::MultiClassMetricsReduction<xgboost::metric::EvalMatchError>::CpuReduceMetrics(xgboost::HostDeviceVector<float> const&, xgboost::HostDeviceVector<float> const&, xgboost::HostDeviceVector<float> const&, unsigned long, int) const + 568\n",
      "  [bt] (3) 4   libxgboost.dylib                    0x00000001666714c0 xgboost::metric::EvalMClassBase<xgboost::metric::EvalMatchError>::Eval(xgboost::HostDeviceVector<float> const&, xgboost::MetaInfo const&) + 832\n",
      "  [bt] (4) 5   libxgboost.dylib                    0x000000016665efb4 void xgboost::collective::ApplyWithLabels<xgboost::MetricNoCache::Evaluate(xgboost::HostDeviceVector<float> const&, std::__1::shared_ptr<xgboost::DMatrix>)::'lambda'()>(xgboost::MetaInfo const&, void*, unsigned long, xgboost::MetricNoCache::Evaluate(xgboost::HostDeviceVector<float> const&, std::__1::shared_ptr<xgboost::DMatrix>)::'lambda'()&&) + 380\n",
      "  [bt] (5) 6   libxgboost.dylib                    0x000000016665e570 xgboost::MetricNoCache::Evaluate(xgboost::HostDeviceVector<float> const&, std::__1::shared_ptr<xgboost::DMatrix>) + 72\n",
      "  [bt] (6) 7   libxgboost.dylib                    0x0000000166639084 xgboost::LearnerImpl::EvalOneIter(int, std::__1::vector<std::__1::shared_ptr<xgboost::DMatrix>, std::__1::allocator<std::__1::shared_ptr<xgboost::DMatrix> > > const&, std::__1::vector<std::__1::basic_string<char, std::__1::char_traits<char>, std::__1::allocator<char> >, std::__1::allocator<std::__1::basic_string<char, std::__1::char_traits<char>, std::__1::allocator<char> > > > const&) + 1716\n",
      "  [bt] (7) 8   libxgboost.dylib                    0x0000000166511624 XGBoosterEvalOneIter + 236\n",
      "  [bt] (8) 9   libffi.dylib                        0x00000001c6134050 ffi_call_SYSV + 80\n",
      "\n",
      "\n",
      "[W 2024-04-20 19:12:27,647] Trial 0 failed with value None.\n"
     ]
    },
    {
     "name": "stdout",
     "output_type": "stream",
     "text": [
      "Failed at id 502188\n"
     ]
    },
    {
     "name": "stderr",
     "output_type": "stream",
     "text": [
      "[W 2024-04-20 19:17:31,756] Trial 0 failed with parameters: {'max_depth': 2, 'learning_rate': 0.25612958593104845, 'n_estimators': 200, 'subsample': 0.6, 'min_child_weight': 2} because of the following error: XGBoostError(\"[19:17:31] /Users/runner/work/xgboost/xgboost/src/metric/multiclass_metric.cu:35: Check failed: label_error >= 0 && label_error < static_cast<int32_t>(n_class): MultiClassEvaluation: label must be in [0, num_class), num_class=4 but found 4 in label\\nStack trace:\\n  [bt] (0) 1   libxgboost.dylib                    0x00000001664f0994 dmlc::LogMessageFatal::~LogMessageFatal() + 124\\n  [bt] (1) 2   libxgboost.dylib                    0x0000000166671920 xgboost::metric::MultiClassMetricsReduction<xgboost::metric::EvalMatchError>::CheckLabelError(int, unsigned long) const + 204\\n  [bt] (2) 3   libxgboost.dylib                    0x00000001666717c0 xgboost::metric::MultiClassMetricsReduction<xgboost::metric::EvalMatchError>::CpuReduceMetrics(xgboost::HostDeviceVector<float> const&, xgboost::HostDeviceVector<float> const&, xgboost::HostDeviceVector<float> const&, unsigned long, int) const + 568\\n  [bt] (3) 4   libxgboost.dylib                    0x00000001666714c0 xgboost::metric::EvalMClassBase<xgboost::metric::EvalMatchError>::Eval(xgboost::HostDeviceVector<float> const&, xgboost::MetaInfo const&) + 832\\n  [bt] (4) 5   libxgboost.dylib                    0x000000016665efb4 void xgboost::collective::ApplyWithLabels<xgboost::MetricNoCache::Evaluate(xgboost::HostDeviceVector<float> const&, std::__1::shared_ptr<xgboost::DMatrix>)::'lambda'()>(xgboost::MetaInfo const&, void*, unsigned long, xgboost::MetricNoCache::Evaluate(xgboost::HostDeviceVector<float> const&, std::__1::shared_ptr<xgboost::DMatrix>)::'lambda'()&&) + 380\\n  [bt] (5) 6   libxgboost.dylib                    0x000000016665e570 xgboost::MetricNoCache::Evaluate(xgboost::HostDeviceVector<float> const&, std::__1::shared_ptr<xgboost::DMatrix>) + 72\\n  [bt] (6) 7   libxgboost.dylib                    0x0000000166639084 xgboost::LearnerImpl::EvalOneIter(int, std::__1::vector<std::__1::shared_ptr<xgboost::DMatrix>, std::__1::allocator<std::__1::shared_ptr<xgboost::DMatrix> > > const&, std::__1::vector<std::__1::basic_string<char, std::__1::char_traits<char>, std::__1::allocator<char> >, std::__1::allocator<std::__1::basic_string<char, std::__1::char_traits<char>, std::__1::allocator<char> > > > const&) + 1716\\n  [bt] (7) 8   libxgboost.dylib                    0x0000000166511624 XGBoosterEvalOneIter + 236\\n  [bt] (8) 9   libffi.dylib                        0x00000001c6134050 ffi_call_SYSV + 80\\n\\n\").\n",
      "Traceback (most recent call last):\n",
      "  File \"/Users/scottmaran/.pyenv/versions/3.8.18/envs/swish_bb/lib/python3.8/site-packages/optuna/study/_optimize.py\", line 196, in _run_trial\n",
      "    value_or_values = func(trial)\n",
      "  File \"/var/folders/_w/4wq7jf9n3c74v00gxl_2v81r0000gn/T/ipykernel_47812/1150918720.py\", line 30, in <lambda>\n",
      "    study.optimize(lambda trial: objective(trial, train_X, train_y, val_X, val_y), n_trials=10)\n",
      "  File \"/var/folders/_w/4wq7jf9n3c74v00gxl_2v81r0000gn/T/ipykernel_47812/689406351.py\", line 12, in objective\n",
      "    clf.fit(train_X, train_y, eval_set=[(val_X, val_y)], verbose=0)\n",
      "  File \"/Users/scottmaran/.pyenv/versions/3.8.18/envs/swish_bb/lib/python3.8/site-packages/xgboost/core.py\", line 730, in inner_f\n",
      "    return func(**kwargs)\n",
      "  File \"/Users/scottmaran/.pyenv/versions/3.8.18/envs/swish_bb/lib/python3.8/site-packages/xgboost/sklearn.py\", line 1519, in fit\n",
      "    self._Booster = train(\n",
      "  File \"/Users/scottmaran/.pyenv/versions/3.8.18/envs/swish_bb/lib/python3.8/site-packages/xgboost/core.py\", line 730, in inner_f\n",
      "    return func(**kwargs)\n",
      "  File \"/Users/scottmaran/.pyenv/versions/3.8.18/envs/swish_bb/lib/python3.8/site-packages/xgboost/training.py\", line 182, in train\n",
      "    if cb_container.after_iteration(bst, i, dtrain, evals):\n",
      "  File \"/Users/scottmaran/.pyenv/versions/3.8.18/envs/swish_bb/lib/python3.8/site-packages/xgboost/callback.py\", line 238, in after_iteration\n",
      "    score: str = model.eval_set(evals, epoch, self.metric, self._output_margin)\n",
      "  File \"/Users/scottmaran/.pyenv/versions/3.8.18/envs/swish_bb/lib/python3.8/site-packages/xgboost/core.py\", line 2125, in eval_set\n",
      "    _check_call(\n",
      "  File \"/Users/scottmaran/.pyenv/versions/3.8.18/envs/swish_bb/lib/python3.8/site-packages/xgboost/core.py\", line 282, in _check_call\n",
      "    raise XGBoostError(py_str(_LIB.XGBGetLastError()))\n",
      "xgboost.core.XGBoostError: [19:17:31] /Users/runner/work/xgboost/xgboost/src/metric/multiclass_metric.cu:35: Check failed: label_error >= 0 && label_error < static_cast<int32_t>(n_class): MultiClassEvaluation: label must be in [0, num_class), num_class=4 but found 4 in label\n",
      "Stack trace:\n",
      "  [bt] (0) 1   libxgboost.dylib                    0x00000001664f0994 dmlc::LogMessageFatal::~LogMessageFatal() + 124\n",
      "  [bt] (1) 2   libxgboost.dylib                    0x0000000166671920 xgboost::metric::MultiClassMetricsReduction<xgboost::metric::EvalMatchError>::CheckLabelError(int, unsigned long) const + 204\n",
      "  [bt] (2) 3   libxgboost.dylib                    0x00000001666717c0 xgboost::metric::MultiClassMetricsReduction<xgboost::metric::EvalMatchError>::CpuReduceMetrics(xgboost::HostDeviceVector<float> const&, xgboost::HostDeviceVector<float> const&, xgboost::HostDeviceVector<float> const&, unsigned long, int) const + 568\n",
      "  [bt] (3) 4   libxgboost.dylib                    0x00000001666714c0 xgboost::metric::EvalMClassBase<xgboost::metric::EvalMatchError>::Eval(xgboost::HostDeviceVector<float> const&, xgboost::MetaInfo const&) + 832\n",
      "  [bt] (4) 5   libxgboost.dylib                    0x000000016665efb4 void xgboost::collective::ApplyWithLabels<xgboost::MetricNoCache::Evaluate(xgboost::HostDeviceVector<float> const&, std::__1::shared_ptr<xgboost::DMatrix>)::'lambda'()>(xgboost::MetaInfo const&, void*, unsigned long, xgboost::MetricNoCache::Evaluate(xgboost::HostDeviceVector<float> const&, std::__1::shared_ptr<xgboost::DMatrix>)::'lambda'()&&) + 380\n",
      "  [bt] (5) 6   libxgboost.dylib                    0x000000016665e570 xgboost::MetricNoCache::Evaluate(xgboost::HostDeviceVector<float> const&, std::__1::shared_ptr<xgboost::DMatrix>) + 72\n",
      "  [bt] (6) 7   libxgboost.dylib                    0x0000000166639084 xgboost::LearnerImpl::EvalOneIter(int, std::__1::vector<std::__1::shared_ptr<xgboost::DMatrix>, std::__1::allocator<std::__1::shared_ptr<xgboost::DMatrix> > > const&, std::__1::vector<std::__1::basic_string<char, std::__1::char_traits<char>, std::__1::allocator<char> >, std::__1::allocator<std::__1::basic_string<char, std::__1::char_traits<char>, std::__1::allocator<char> > > > const&) + 1716\n",
      "  [bt] (7) 8   libxgboost.dylib                    0x0000000166511624 XGBoosterEvalOneIter + 236\n",
      "  [bt] (8) 9   libffi.dylib                        0x00000001c6134050 ffi_call_SYSV + 80\n",
      "\n",
      "\n",
      "[W 2024-04-20 19:17:31,756] Trial 0 failed with value None.\n"
     ]
    },
    {
     "name": "stdout",
     "output_type": "stream",
     "text": [
      "Failed at id 493157\n"
     ]
    },
    {
     "name": "stderr",
     "output_type": "stream",
     "text": [
      "[W 2024-04-20 19:29:37,970] Trial 0 failed with parameters: {'max_depth': 6, 'learning_rate': 0.2233756411979994, 'n_estimators': 300, 'subsample': 1.0, 'min_child_weight': 1} because of the following error: XGBoostError(\"[19:29:37] /Users/runner/work/xgboost/xgboost/src/metric/multiclass_metric.cu:35: Check failed: label_error >= 0 && label_error < static_cast<int32_t>(n_class): MultiClassEvaluation: label must be in [0, num_class), num_class=5 but found 5 in label\\nStack trace:\\n  [bt] (0) 1   libxgboost.dylib                    0x00000001664f0994 dmlc::LogMessageFatal::~LogMessageFatal() + 124\\n  [bt] (1) 2   libxgboost.dylib                    0x0000000166671920 xgboost::metric::MultiClassMetricsReduction<xgboost::metric::EvalMatchError>::CheckLabelError(int, unsigned long) const + 204\\n  [bt] (2) 3   libxgboost.dylib                    0x00000001666717c0 xgboost::metric::MultiClassMetricsReduction<xgboost::metric::EvalMatchError>::CpuReduceMetrics(xgboost::HostDeviceVector<float> const&, xgboost::HostDeviceVector<float> const&, xgboost::HostDeviceVector<float> const&, unsigned long, int) const + 568\\n  [bt] (3) 4   libxgboost.dylib                    0x00000001666714c0 xgboost::metric::EvalMClassBase<xgboost::metric::EvalMatchError>::Eval(xgboost::HostDeviceVector<float> const&, xgboost::MetaInfo const&) + 832\\n  [bt] (4) 5   libxgboost.dylib                    0x000000016665efb4 void xgboost::collective::ApplyWithLabels<xgboost::MetricNoCache::Evaluate(xgboost::HostDeviceVector<float> const&, std::__1::shared_ptr<xgboost::DMatrix>)::'lambda'()>(xgboost::MetaInfo const&, void*, unsigned long, xgboost::MetricNoCache::Evaluate(xgboost::HostDeviceVector<float> const&, std::__1::shared_ptr<xgboost::DMatrix>)::'lambda'()&&) + 380\\n  [bt] (5) 6   libxgboost.dylib                    0x000000016665e570 xgboost::MetricNoCache::Evaluate(xgboost::HostDeviceVector<float> const&, std::__1::shared_ptr<xgboost::DMatrix>) + 72\\n  [bt] (6) 7   libxgboost.dylib                    0x0000000166639084 xgboost::LearnerImpl::EvalOneIter(int, std::__1::vector<std::__1::shared_ptr<xgboost::DMatrix>, std::__1::allocator<std::__1::shared_ptr<xgboost::DMatrix> > > const&, std::__1::vector<std::__1::basic_string<char, std::__1::char_traits<char>, std::__1::allocator<char> >, std::__1::allocator<std::__1::basic_string<char, std::__1::char_traits<char>, std::__1::allocator<char> > > > const&) + 1716\\n  [bt] (7) 8   libxgboost.dylib                    0x0000000166511624 XGBoosterEvalOneIter + 236\\n  [bt] (8) 9   libffi.dylib                        0x00000001c6134050 ffi_call_SYSV + 80\\n\\n\").\n",
      "Traceback (most recent call last):\n",
      "  File \"/Users/scottmaran/.pyenv/versions/3.8.18/envs/swish_bb/lib/python3.8/site-packages/optuna/study/_optimize.py\", line 196, in _run_trial\n",
      "    value_or_values = func(trial)\n",
      "  File \"/var/folders/_w/4wq7jf9n3c74v00gxl_2v81r0000gn/T/ipykernel_47812/1150918720.py\", line 30, in <lambda>\n",
      "    study.optimize(lambda trial: objective(trial, train_X, train_y, val_X, val_y), n_trials=10)\n",
      "  File \"/var/folders/_w/4wq7jf9n3c74v00gxl_2v81r0000gn/T/ipykernel_47812/689406351.py\", line 12, in objective\n",
      "    clf.fit(train_X, train_y, eval_set=[(val_X, val_y)], verbose=0)\n",
      "  File \"/Users/scottmaran/.pyenv/versions/3.8.18/envs/swish_bb/lib/python3.8/site-packages/xgboost/core.py\", line 730, in inner_f\n",
      "    return func(**kwargs)\n",
      "  File \"/Users/scottmaran/.pyenv/versions/3.8.18/envs/swish_bb/lib/python3.8/site-packages/xgboost/sklearn.py\", line 1519, in fit\n",
      "    self._Booster = train(\n",
      "  File \"/Users/scottmaran/.pyenv/versions/3.8.18/envs/swish_bb/lib/python3.8/site-packages/xgboost/core.py\", line 730, in inner_f\n",
      "    return func(**kwargs)\n",
      "  File \"/Users/scottmaran/.pyenv/versions/3.8.18/envs/swish_bb/lib/python3.8/site-packages/xgboost/training.py\", line 182, in train\n",
      "    if cb_container.after_iteration(bst, i, dtrain, evals):\n",
      "  File \"/Users/scottmaran/.pyenv/versions/3.8.18/envs/swish_bb/lib/python3.8/site-packages/xgboost/callback.py\", line 238, in after_iteration\n",
      "    score: str = model.eval_set(evals, epoch, self.metric, self._output_margin)\n",
      "  File \"/Users/scottmaran/.pyenv/versions/3.8.18/envs/swish_bb/lib/python3.8/site-packages/xgboost/core.py\", line 2125, in eval_set\n",
      "    _check_call(\n",
      "  File \"/Users/scottmaran/.pyenv/versions/3.8.18/envs/swish_bb/lib/python3.8/site-packages/xgboost/core.py\", line 282, in _check_call\n",
      "    raise XGBoostError(py_str(_LIB.XGBGetLastError()))\n",
      "xgboost.core.XGBoostError: [19:29:37] /Users/runner/work/xgboost/xgboost/src/metric/multiclass_metric.cu:35: Check failed: label_error >= 0 && label_error < static_cast<int32_t>(n_class): MultiClassEvaluation: label must be in [0, num_class), num_class=5 but found 5 in label\n",
      "Stack trace:\n",
      "  [bt] (0) 1   libxgboost.dylib                    0x00000001664f0994 dmlc::LogMessageFatal::~LogMessageFatal() + 124\n",
      "  [bt] (1) 2   libxgboost.dylib                    0x0000000166671920 xgboost::metric::MultiClassMetricsReduction<xgboost::metric::EvalMatchError>::CheckLabelError(int, unsigned long) const + 204\n",
      "  [bt] (2) 3   libxgboost.dylib                    0x00000001666717c0 xgboost::metric::MultiClassMetricsReduction<xgboost::metric::EvalMatchError>::CpuReduceMetrics(xgboost::HostDeviceVector<float> const&, xgboost::HostDeviceVector<float> const&, xgboost::HostDeviceVector<float> const&, unsigned long, int) const + 568\n",
      "  [bt] (3) 4   libxgboost.dylib                    0x00000001666714c0 xgboost::metric::EvalMClassBase<xgboost::metric::EvalMatchError>::Eval(xgboost::HostDeviceVector<float> const&, xgboost::MetaInfo const&) + 832\n",
      "  [bt] (4) 5   libxgboost.dylib                    0x000000016665efb4 void xgboost::collective::ApplyWithLabels<xgboost::MetricNoCache::Evaluate(xgboost::HostDeviceVector<float> const&, std::__1::shared_ptr<xgboost::DMatrix>)::'lambda'()>(xgboost::MetaInfo const&, void*, unsigned long, xgboost::MetricNoCache::Evaluate(xgboost::HostDeviceVector<float> const&, std::__1::shared_ptr<xgboost::DMatrix>)::'lambda'()&&) + 380\n",
      "  [bt] (5) 6   libxgboost.dylib                    0x000000016665e570 xgboost::MetricNoCache::Evaluate(xgboost::HostDeviceVector<float> const&, std::__1::shared_ptr<xgboost::DMatrix>) + 72\n",
      "  [bt] (6) 7   libxgboost.dylib                    0x0000000166639084 xgboost::LearnerImpl::EvalOneIter(int, std::__1::vector<std::__1::shared_ptr<xgboost::DMatrix>, std::__1::allocator<std::__1::shared_ptr<xgboost::DMatrix> > > const&, std::__1::vector<std::__1::basic_string<char, std::__1::char_traits<char>, std::__1::allocator<char> >, std::__1::allocator<std::__1::basic_string<char, std::__1::char_traits<char>, std::__1::allocator<char> > > > const&) + 1716\n",
      "  [bt] (7) 8   libxgboost.dylib                    0x0000000166511624 XGBoosterEvalOneIter + 236\n",
      "  [bt] (8) 9   libffi.dylib                        0x00000001c6134050 ffi_call_SYSV + 80\n",
      "\n",
      "\n",
      "[W 2024-04-20 19:29:37,972] Trial 0 failed with value None.\n"
     ]
    },
    {
     "name": "stdout",
     "output_type": "stream",
     "text": [
      "Failed at id 430083\n"
     ]
    },
    {
     "name": "stderr",
     "output_type": "stream",
     "text": [
      "[W 2024-04-20 19:30:52,925] Trial 0 failed with parameters: {'max_depth': 6, 'learning_rate': 0.03929460554960038, 'n_estimators': 600, 'subsample': 0.30000000000000004, 'min_child_weight': 4} because of the following error: XGBoostError(\"[19:30:52] /Users/runner/work/xgboost/xgboost/src/metric/multiclass_metric.cu:35: Check failed: label_error >= 0 && label_error < static_cast<int32_t>(n_class): MultiClassEvaluation: label must be in [0, num_class), num_class=5 but found 5 in label\\nStack trace:\\n  [bt] (0) 1   libxgboost.dylib                    0x00000001664f0994 dmlc::LogMessageFatal::~LogMessageFatal() + 124\\n  [bt] (1) 2   libxgboost.dylib                    0x0000000166671920 xgboost::metric::MultiClassMetricsReduction<xgboost::metric::EvalMatchError>::CheckLabelError(int, unsigned long) const + 204\\n  [bt] (2) 3   libxgboost.dylib                    0x00000001666717c0 xgboost::metric::MultiClassMetricsReduction<xgboost::metric::EvalMatchError>::CpuReduceMetrics(xgboost::HostDeviceVector<float> const&, xgboost::HostDeviceVector<float> const&, xgboost::HostDeviceVector<float> const&, unsigned long, int) const + 568\\n  [bt] (3) 4   libxgboost.dylib                    0x00000001666714c0 xgboost::metric::EvalMClassBase<xgboost::metric::EvalMatchError>::Eval(xgboost::HostDeviceVector<float> const&, xgboost::MetaInfo const&) + 832\\n  [bt] (4) 5   libxgboost.dylib                    0x000000016665efb4 void xgboost::collective::ApplyWithLabels<xgboost::MetricNoCache::Evaluate(xgboost::HostDeviceVector<float> const&, std::__1::shared_ptr<xgboost::DMatrix>)::'lambda'()>(xgboost::MetaInfo const&, void*, unsigned long, xgboost::MetricNoCache::Evaluate(xgboost::HostDeviceVector<float> const&, std::__1::shared_ptr<xgboost::DMatrix>)::'lambda'()&&) + 380\\n  [bt] (5) 6   libxgboost.dylib                    0x000000016665e570 xgboost::MetricNoCache::Evaluate(xgboost::HostDeviceVector<float> const&, std::__1::shared_ptr<xgboost::DMatrix>) + 72\\n  [bt] (6) 7   libxgboost.dylib                    0x0000000166639084 xgboost::LearnerImpl::EvalOneIter(int, std::__1::vector<std::__1::shared_ptr<xgboost::DMatrix>, std::__1::allocator<std::__1::shared_ptr<xgboost::DMatrix> > > const&, std::__1::vector<std::__1::basic_string<char, std::__1::char_traits<char>, std::__1::allocator<char> >, std::__1::allocator<std::__1::basic_string<char, std::__1::char_traits<char>, std::__1::allocator<char> > > > const&) + 1716\\n  [bt] (7) 8   libxgboost.dylib                    0x0000000166511624 XGBoosterEvalOneIter + 236\\n  [bt] (8) 9   libffi.dylib                        0x00000001c6134050 ffi_call_SYSV + 80\\n\\n\").\n",
      "Traceback (most recent call last):\n",
      "  File \"/Users/scottmaran/.pyenv/versions/3.8.18/envs/swish_bb/lib/python3.8/site-packages/optuna/study/_optimize.py\", line 196, in _run_trial\n",
      "    value_or_values = func(trial)\n",
      "  File \"/var/folders/_w/4wq7jf9n3c74v00gxl_2v81r0000gn/T/ipykernel_47812/1150918720.py\", line 30, in <lambda>\n",
      "    study.optimize(lambda trial: objective(trial, train_X, train_y, val_X, val_y), n_trials=10)\n",
      "  File \"/var/folders/_w/4wq7jf9n3c74v00gxl_2v81r0000gn/T/ipykernel_47812/689406351.py\", line 12, in objective\n",
      "    clf.fit(train_X, train_y, eval_set=[(val_X, val_y)], verbose=0)\n",
      "  File \"/Users/scottmaran/.pyenv/versions/3.8.18/envs/swish_bb/lib/python3.8/site-packages/xgboost/core.py\", line 730, in inner_f\n",
      "    return func(**kwargs)\n",
      "  File \"/Users/scottmaran/.pyenv/versions/3.8.18/envs/swish_bb/lib/python3.8/site-packages/xgboost/sklearn.py\", line 1519, in fit\n",
      "    self._Booster = train(\n",
      "  File \"/Users/scottmaran/.pyenv/versions/3.8.18/envs/swish_bb/lib/python3.8/site-packages/xgboost/core.py\", line 730, in inner_f\n",
      "    return func(**kwargs)\n",
      "  File \"/Users/scottmaran/.pyenv/versions/3.8.18/envs/swish_bb/lib/python3.8/site-packages/xgboost/training.py\", line 182, in train\n",
      "    if cb_container.after_iteration(bst, i, dtrain, evals):\n",
      "  File \"/Users/scottmaran/.pyenv/versions/3.8.18/envs/swish_bb/lib/python3.8/site-packages/xgboost/callback.py\", line 238, in after_iteration\n",
      "    score: str = model.eval_set(evals, epoch, self.metric, self._output_margin)\n",
      "  File \"/Users/scottmaran/.pyenv/versions/3.8.18/envs/swish_bb/lib/python3.8/site-packages/xgboost/core.py\", line 2125, in eval_set\n",
      "    _check_call(\n",
      "  File \"/Users/scottmaran/.pyenv/versions/3.8.18/envs/swish_bb/lib/python3.8/site-packages/xgboost/core.py\", line 282, in _check_call\n",
      "    raise XGBoostError(py_str(_LIB.XGBGetLastError()))\n",
      "xgboost.core.XGBoostError: [19:30:52] /Users/runner/work/xgboost/xgboost/src/metric/multiclass_metric.cu:35: Check failed: label_error >= 0 && label_error < static_cast<int32_t>(n_class): MultiClassEvaluation: label must be in [0, num_class), num_class=5 but found 5 in label\n",
      "Stack trace:\n",
      "  [bt] (0) 1   libxgboost.dylib                    0x00000001664f0994 dmlc::LogMessageFatal::~LogMessageFatal() + 124\n",
      "  [bt] (1) 2   libxgboost.dylib                    0x0000000166671920 xgboost::metric::MultiClassMetricsReduction<xgboost::metric::EvalMatchError>::CheckLabelError(int, unsigned long) const + 204\n",
      "  [bt] (2) 3   libxgboost.dylib                    0x00000001666717c0 xgboost::metric::MultiClassMetricsReduction<xgboost::metric::EvalMatchError>::CpuReduceMetrics(xgboost::HostDeviceVector<float> const&, xgboost::HostDeviceVector<float> const&, xgboost::HostDeviceVector<float> const&, unsigned long, int) const + 568\n",
      "  [bt] (3) 4   libxgboost.dylib                    0x00000001666714c0 xgboost::metric::EvalMClassBase<xgboost::metric::EvalMatchError>::Eval(xgboost::HostDeviceVector<float> const&, xgboost::MetaInfo const&) + 832\n",
      "  [bt] (4) 5   libxgboost.dylib                    0x000000016665efb4 void xgboost::collective::ApplyWithLabels<xgboost::MetricNoCache::Evaluate(xgboost::HostDeviceVector<float> const&, std::__1::shared_ptr<xgboost::DMatrix>)::'lambda'()>(xgboost::MetaInfo const&, void*, unsigned long, xgboost::MetricNoCache::Evaluate(xgboost::HostDeviceVector<float> const&, std::__1::shared_ptr<xgboost::DMatrix>)::'lambda'()&&) + 380\n",
      "  [bt] (5) 6   libxgboost.dylib                    0x000000016665e570 xgboost::MetricNoCache::Evaluate(xgboost::HostDeviceVector<float> const&, std::__1::shared_ptr<xgboost::DMatrix>) + 72\n",
      "  [bt] (6) 7   libxgboost.dylib                    0x0000000166639084 xgboost::LearnerImpl::EvalOneIter(int, std::__1::vector<std::__1::shared_ptr<xgboost::DMatrix>, std::__1::allocator<std::__1::shared_ptr<xgboost::DMatrix> > > const&, std::__1::vector<std::__1::basic_string<char, std::__1::char_traits<char>, std::__1::allocator<char> >, std::__1::allocator<std::__1::basic_string<char, std::__1::char_traits<char>, std::__1::allocator<char> > > > const&) + 1716\n",
      "  [bt] (7) 8   libxgboost.dylib                    0x0000000166511624 XGBoosterEvalOneIter + 236\n",
      "  [bt] (8) 9   libffi.dylib                        0x00000001c6134050 ffi_call_SYSV + 80\n",
      "\n",
      "\n",
      "[W 2024-04-20 19:30:52,926] Trial 0 failed with value None.\n"
     ]
    },
    {
     "name": "stdout",
     "output_type": "stream",
     "text": [
      "Failed at id 450729\n"
     ]
    },
    {
     "name": "stderr",
     "output_type": "stream",
     "text": [
      "[W 2024-04-20 19:33:34,603] Trial 0 failed with parameters: {'max_depth': 7, 'learning_rate': 0.16466806857349334, 'n_estimators': 400, 'subsample': 0.1, 'min_child_weight': 1} because of the following error: XGBoostError(\"[19:33:34] /Users/runner/work/xgboost/xgboost/src/metric/multiclass_metric.cu:35: Check failed: label_error >= 0 && label_error < static_cast<int32_t>(n_class): MultiClassEvaluation: label must be in [0, num_class), num_class=5 but found 5 in label\\nStack trace:\\n  [bt] (0) 1   libxgboost.dylib                    0x00000001664f0994 dmlc::LogMessageFatal::~LogMessageFatal() + 124\\n  [bt] (1) 2   libxgboost.dylib                    0x0000000166671920 xgboost::metric::MultiClassMetricsReduction<xgboost::metric::EvalMatchError>::CheckLabelError(int, unsigned long) const + 204\\n  [bt] (2) 3   libxgboost.dylib                    0x00000001666717c0 xgboost::metric::MultiClassMetricsReduction<xgboost::metric::EvalMatchError>::CpuReduceMetrics(xgboost::HostDeviceVector<float> const&, xgboost::HostDeviceVector<float> const&, xgboost::HostDeviceVector<float> const&, unsigned long, int) const + 568\\n  [bt] (3) 4   libxgboost.dylib                    0x00000001666714c0 xgboost::metric::EvalMClassBase<xgboost::metric::EvalMatchError>::Eval(xgboost::HostDeviceVector<float> const&, xgboost::MetaInfo const&) + 832\\n  [bt] (4) 5   libxgboost.dylib                    0x000000016665efb4 void xgboost::collective::ApplyWithLabels<xgboost::MetricNoCache::Evaluate(xgboost::HostDeviceVector<float> const&, std::__1::shared_ptr<xgboost::DMatrix>)::'lambda'()>(xgboost::MetaInfo const&, void*, unsigned long, xgboost::MetricNoCache::Evaluate(xgboost::HostDeviceVector<float> const&, std::__1::shared_ptr<xgboost::DMatrix>)::'lambda'()&&) + 380\\n  [bt] (5) 6   libxgboost.dylib                    0x000000016665e570 xgboost::MetricNoCache::Evaluate(xgboost::HostDeviceVector<float> const&, std::__1::shared_ptr<xgboost::DMatrix>) + 72\\n  [bt] (6) 7   libxgboost.dylib                    0x0000000166639084 xgboost::LearnerImpl::EvalOneIter(int, std::__1::vector<std::__1::shared_ptr<xgboost::DMatrix>, std::__1::allocator<std::__1::shared_ptr<xgboost::DMatrix> > > const&, std::__1::vector<std::__1::basic_string<char, std::__1::char_traits<char>, std::__1::allocator<char> >, std::__1::allocator<std::__1::basic_string<char, std::__1::char_traits<char>, std::__1::allocator<char> > > > const&) + 1716\\n  [bt] (7) 8   libxgboost.dylib                    0x0000000166511624 XGBoosterEvalOneIter + 236\\n  [bt] (8) 9   libffi.dylib                        0x00000001c6134050 ffi_call_SYSV + 80\\n\\n\").\n",
      "Traceback (most recent call last):\n",
      "  File \"/Users/scottmaran/.pyenv/versions/3.8.18/envs/swish_bb/lib/python3.8/site-packages/optuna/study/_optimize.py\", line 196, in _run_trial\n",
      "    value_or_values = func(trial)\n",
      "  File \"/var/folders/_w/4wq7jf9n3c74v00gxl_2v81r0000gn/T/ipykernel_47812/1150918720.py\", line 30, in <lambda>\n",
      "    study.optimize(lambda trial: objective(trial, train_X, train_y, val_X, val_y), n_trials=10)\n",
      "  File \"/var/folders/_w/4wq7jf9n3c74v00gxl_2v81r0000gn/T/ipykernel_47812/689406351.py\", line 12, in objective\n",
      "    clf.fit(train_X, train_y, eval_set=[(val_X, val_y)], verbose=0)\n",
      "  File \"/Users/scottmaran/.pyenv/versions/3.8.18/envs/swish_bb/lib/python3.8/site-packages/xgboost/core.py\", line 730, in inner_f\n",
      "    return func(**kwargs)\n",
      "  File \"/Users/scottmaran/.pyenv/versions/3.8.18/envs/swish_bb/lib/python3.8/site-packages/xgboost/sklearn.py\", line 1519, in fit\n",
      "    self._Booster = train(\n",
      "  File \"/Users/scottmaran/.pyenv/versions/3.8.18/envs/swish_bb/lib/python3.8/site-packages/xgboost/core.py\", line 730, in inner_f\n",
      "    return func(**kwargs)\n",
      "  File \"/Users/scottmaran/.pyenv/versions/3.8.18/envs/swish_bb/lib/python3.8/site-packages/xgboost/training.py\", line 182, in train\n",
      "    if cb_container.after_iteration(bst, i, dtrain, evals):\n",
      "  File \"/Users/scottmaran/.pyenv/versions/3.8.18/envs/swish_bb/lib/python3.8/site-packages/xgboost/callback.py\", line 238, in after_iteration\n",
      "    score: str = model.eval_set(evals, epoch, self.metric, self._output_margin)\n",
      "  File \"/Users/scottmaran/.pyenv/versions/3.8.18/envs/swish_bb/lib/python3.8/site-packages/xgboost/core.py\", line 2125, in eval_set\n",
      "    _check_call(\n",
      "  File \"/Users/scottmaran/.pyenv/versions/3.8.18/envs/swish_bb/lib/python3.8/site-packages/xgboost/core.py\", line 282, in _check_call\n",
      "    raise XGBoostError(py_str(_LIB.XGBGetLastError()))\n",
      "xgboost.core.XGBoostError: [19:33:34] /Users/runner/work/xgboost/xgboost/src/metric/multiclass_metric.cu:35: Check failed: label_error >= 0 && label_error < static_cast<int32_t>(n_class): MultiClassEvaluation: label must be in [0, num_class), num_class=5 but found 5 in label\n",
      "Stack trace:\n",
      "  [bt] (0) 1   libxgboost.dylib                    0x00000001664f0994 dmlc::LogMessageFatal::~LogMessageFatal() + 124\n",
      "  [bt] (1) 2   libxgboost.dylib                    0x0000000166671920 xgboost::metric::MultiClassMetricsReduction<xgboost::metric::EvalMatchError>::CheckLabelError(int, unsigned long) const + 204\n",
      "  [bt] (2) 3   libxgboost.dylib                    0x00000001666717c0 xgboost::metric::MultiClassMetricsReduction<xgboost::metric::EvalMatchError>::CpuReduceMetrics(xgboost::HostDeviceVector<float> const&, xgboost::HostDeviceVector<float> const&, xgboost::HostDeviceVector<float> const&, unsigned long, int) const + 568\n",
      "  [bt] (3) 4   libxgboost.dylib                    0x00000001666714c0 xgboost::metric::EvalMClassBase<xgboost::metric::EvalMatchError>::Eval(xgboost::HostDeviceVector<float> const&, xgboost::MetaInfo const&) + 832\n",
      "  [bt] (4) 5   libxgboost.dylib                    0x000000016665efb4 void xgboost::collective::ApplyWithLabels<xgboost::MetricNoCache::Evaluate(xgboost::HostDeviceVector<float> const&, std::__1::shared_ptr<xgboost::DMatrix>)::'lambda'()>(xgboost::MetaInfo const&, void*, unsigned long, xgboost::MetricNoCache::Evaluate(xgboost::HostDeviceVector<float> const&, std::__1::shared_ptr<xgboost::DMatrix>)::'lambda'()&&) + 380\n",
      "  [bt] (5) 6   libxgboost.dylib                    0x000000016665e570 xgboost::MetricNoCache::Evaluate(xgboost::HostDeviceVector<float> const&, std::__1::shared_ptr<xgboost::DMatrix>) + 72\n",
      "  [bt] (6) 7   libxgboost.dylib                    0x0000000166639084 xgboost::LearnerImpl::EvalOneIter(int, std::__1::vector<std::__1::shared_ptr<xgboost::DMatrix>, std::__1::allocator<std::__1::shared_ptr<xgboost::DMatrix> > > const&, std::__1::vector<std::__1::basic_string<char, std::__1::char_traits<char>, std::__1::allocator<char> >, std::__1::allocator<std::__1::basic_string<char, std::__1::char_traits<char>, std::__1::allocator<char> > > > const&) + 1716\n",
      "  [bt] (7) 8   libxgboost.dylib                    0x0000000166511624 XGBoosterEvalOneIter + 236\n",
      "  [bt] (8) 9   libffi.dylib                        0x00000001c6134050 ffi_call_SYSV + 80\n",
      "\n",
      "\n",
      "[W 2024-04-20 19:33:34,603] Trial 0 failed with value None.\n"
     ]
    },
    {
     "name": "stdout",
     "output_type": "stream",
     "text": [
      "Failed at id 450203\n"
     ]
    },
    {
     "name": "stderr",
     "output_type": "stream",
     "text": [
      "[W 2024-04-20 19:40:07,047] Trial 0 failed with parameters: {'max_depth': 4, 'learning_rate': 0.06220995635935659, 'n_estimators': 800, 'subsample': 0.30000000000000004, 'min_child_weight': 8} because of the following error: XGBoostError(\"[19:40:07] /Users/runner/work/xgboost/xgboost/src/metric/multiclass_metric.cu:35: Check failed: label_error >= 0 && label_error < static_cast<int32_t>(n_class): MultiClassEvaluation: label must be in [0, num_class), num_class=4 but found 4 in label\\nStack trace:\\n  [bt] (0) 1   libxgboost.dylib                    0x00000001664f0994 dmlc::LogMessageFatal::~LogMessageFatal() + 124\\n  [bt] (1) 2   libxgboost.dylib                    0x0000000166671920 xgboost::metric::MultiClassMetricsReduction<xgboost::metric::EvalMatchError>::CheckLabelError(int, unsigned long) const + 204\\n  [bt] (2) 3   libxgboost.dylib                    0x00000001666717c0 xgboost::metric::MultiClassMetricsReduction<xgboost::metric::EvalMatchError>::CpuReduceMetrics(xgboost::HostDeviceVector<float> const&, xgboost::HostDeviceVector<float> const&, xgboost::HostDeviceVector<float> const&, unsigned long, int) const + 568\\n  [bt] (3) 4   libxgboost.dylib                    0x00000001666714c0 xgboost::metric::EvalMClassBase<xgboost::metric::EvalMatchError>::Eval(xgboost::HostDeviceVector<float> const&, xgboost::MetaInfo const&) + 832\\n  [bt] (4) 5   libxgboost.dylib                    0x000000016665efb4 void xgboost::collective::ApplyWithLabels<xgboost::MetricNoCache::Evaluate(xgboost::HostDeviceVector<float> const&, std::__1::shared_ptr<xgboost::DMatrix>)::'lambda'()>(xgboost::MetaInfo const&, void*, unsigned long, xgboost::MetricNoCache::Evaluate(xgboost::HostDeviceVector<float> const&, std::__1::shared_ptr<xgboost::DMatrix>)::'lambda'()&&) + 380\\n  [bt] (5) 6   libxgboost.dylib                    0x000000016665e570 xgboost::MetricNoCache::Evaluate(xgboost::HostDeviceVector<float> const&, std::__1::shared_ptr<xgboost::DMatrix>) + 72\\n  [bt] (6) 7   libxgboost.dylib                    0x0000000166639084 xgboost::LearnerImpl::EvalOneIter(int, std::__1::vector<std::__1::shared_ptr<xgboost::DMatrix>, std::__1::allocator<std::__1::shared_ptr<xgboost::DMatrix> > > const&, std::__1::vector<std::__1::basic_string<char, std::__1::char_traits<char>, std::__1::allocator<char> >, std::__1::allocator<std::__1::basic_string<char, std::__1::char_traits<char>, std::__1::allocator<char> > > > const&) + 1716\\n  [bt] (7) 8   libxgboost.dylib                    0x0000000166511624 XGBoosterEvalOneIter + 236\\n  [bt] (8) 9   libffi.dylib                        0x00000001c6134050 ffi_call_SYSV + 80\\n\\n\").\n",
      "Traceback (most recent call last):\n",
      "  File \"/Users/scottmaran/.pyenv/versions/3.8.18/envs/swish_bb/lib/python3.8/site-packages/optuna/study/_optimize.py\", line 196, in _run_trial\n",
      "    value_or_values = func(trial)\n",
      "  File \"/var/folders/_w/4wq7jf9n3c74v00gxl_2v81r0000gn/T/ipykernel_47812/1150918720.py\", line 30, in <lambda>\n",
      "    study.optimize(lambda trial: objective(trial, train_X, train_y, val_X, val_y), n_trials=10)\n",
      "  File \"/var/folders/_w/4wq7jf9n3c74v00gxl_2v81r0000gn/T/ipykernel_47812/689406351.py\", line 12, in objective\n",
      "    clf.fit(train_X, train_y, eval_set=[(val_X, val_y)], verbose=0)\n",
      "  File \"/Users/scottmaran/.pyenv/versions/3.8.18/envs/swish_bb/lib/python3.8/site-packages/xgboost/core.py\", line 730, in inner_f\n",
      "    return func(**kwargs)\n",
      "  File \"/Users/scottmaran/.pyenv/versions/3.8.18/envs/swish_bb/lib/python3.8/site-packages/xgboost/sklearn.py\", line 1519, in fit\n",
      "    self._Booster = train(\n",
      "  File \"/Users/scottmaran/.pyenv/versions/3.8.18/envs/swish_bb/lib/python3.8/site-packages/xgboost/core.py\", line 730, in inner_f\n",
      "    return func(**kwargs)\n",
      "  File \"/Users/scottmaran/.pyenv/versions/3.8.18/envs/swish_bb/lib/python3.8/site-packages/xgboost/training.py\", line 182, in train\n",
      "    if cb_container.after_iteration(bst, i, dtrain, evals):\n",
      "  File \"/Users/scottmaran/.pyenv/versions/3.8.18/envs/swish_bb/lib/python3.8/site-packages/xgboost/callback.py\", line 238, in after_iteration\n",
      "    score: str = model.eval_set(evals, epoch, self.metric, self._output_margin)\n",
      "  File \"/Users/scottmaran/.pyenv/versions/3.8.18/envs/swish_bb/lib/python3.8/site-packages/xgboost/core.py\", line 2125, in eval_set\n",
      "    _check_call(\n",
      "  File \"/Users/scottmaran/.pyenv/versions/3.8.18/envs/swish_bb/lib/python3.8/site-packages/xgboost/core.py\", line 282, in _check_call\n",
      "    raise XGBoostError(py_str(_LIB.XGBGetLastError()))\n",
      "xgboost.core.XGBoostError: [19:40:07] /Users/runner/work/xgboost/xgboost/src/metric/multiclass_metric.cu:35: Check failed: label_error >= 0 && label_error < static_cast<int32_t>(n_class): MultiClassEvaluation: label must be in [0, num_class), num_class=4 but found 4 in label\n",
      "Stack trace:\n",
      "  [bt] (0) 1   libxgboost.dylib                    0x00000001664f0994 dmlc::LogMessageFatal::~LogMessageFatal() + 124\n",
      "  [bt] (1) 2   libxgboost.dylib                    0x0000000166671920 xgboost::metric::MultiClassMetricsReduction<xgboost::metric::EvalMatchError>::CheckLabelError(int, unsigned long) const + 204\n",
      "  [bt] (2) 3   libxgboost.dylib                    0x00000001666717c0 xgboost::metric::MultiClassMetricsReduction<xgboost::metric::EvalMatchError>::CpuReduceMetrics(xgboost::HostDeviceVector<float> const&, xgboost::HostDeviceVector<float> const&, xgboost::HostDeviceVector<float> const&, unsigned long, int) const + 568\n",
      "  [bt] (3) 4   libxgboost.dylib                    0x00000001666714c0 xgboost::metric::EvalMClassBase<xgboost::metric::EvalMatchError>::Eval(xgboost::HostDeviceVector<float> const&, xgboost::MetaInfo const&) + 832\n",
      "  [bt] (4) 5   libxgboost.dylib                    0x000000016665efb4 void xgboost::collective::ApplyWithLabels<xgboost::MetricNoCache::Evaluate(xgboost::HostDeviceVector<float> const&, std::__1::shared_ptr<xgboost::DMatrix>)::'lambda'()>(xgboost::MetaInfo const&, void*, unsigned long, xgboost::MetricNoCache::Evaluate(xgboost::HostDeviceVector<float> const&, std::__1::shared_ptr<xgboost::DMatrix>)::'lambda'()&&) + 380\n",
      "  [bt] (5) 6   libxgboost.dylib                    0x000000016665e570 xgboost::MetricNoCache::Evaluate(xgboost::HostDeviceVector<float> const&, std::__1::shared_ptr<xgboost::DMatrix>) + 72\n",
      "  [bt] (6) 7   libxgboost.dylib                    0x0000000166639084 xgboost::LearnerImpl::EvalOneIter(int, std::__1::vector<std::__1::shared_ptr<xgboost::DMatrix>, std::__1::allocator<std::__1::shared_ptr<xgboost::DMatrix> > > const&, std::__1::vector<std::__1::basic_string<char, std::__1::char_traits<char>, std::__1::allocator<char> >, std::__1::allocator<std::__1::basic_string<char, std::__1::char_traits<char>, std::__1::allocator<char> > > > const&) + 1716\n",
      "  [bt] (7) 8   libxgboost.dylib                    0x0000000166511624 XGBoosterEvalOneIter + 236\n",
      "  [bt] (8) 9   libffi.dylib                        0x00000001c6134050 ffi_call_SYSV + 80\n",
      "\n",
      "\n",
      "[W 2024-04-20 19:40:07,048] Trial 0 failed with value None.\n"
     ]
    },
    {
     "name": "stdout",
     "output_type": "stream",
     "text": [
      "Failed at id 452733\n"
     ]
    }
   ],
   "source": [
    "num_wrong = 0\n",
    "num_seen = 0\n",
    "for id in dataset.pitcher_id.unique():\n",
    "    try:\n",
    "        val_num_wrong, val_num = train_individual_model(id, dataset, info_dict, stats_df)\n",
    "        num_wrong += val_num_wrong\n",
    "        num_seen += val_num\n",
    "    except Exception as e:\n",
    "        print(f\"Failed at id {id}\")\n",
    "final_val_error = num_wrong/num_seen"
   ]
  },
  {
   "cell_type": "code",
   "execution_count": 15,
   "metadata": {},
   "outputs": [],
   "source": [
    "pickle.dump(info_dict, open(f\"{DIRECTORY_PATH}/model_info_dict.pkl\", \"wb\"))\n",
    "pickle.dump(stats_df, open(f\"{DIRECTORY_PATH}/stats_df.pkl\", \"wb\"))"
   ]
  },
  {
   "cell_type": "code",
   "execution_count": 27,
   "metadata": {},
   "outputs": [],
   "source": [
    "with open(MODEL_INFO_FILEPATH, \"a\") as text_file:\n",
    "    print(f\"final_val_error = {final_val_error}\", file=text_file)"
   ]
  },
  {
   "cell_type": "code",
   "execution_count": 17,
   "metadata": {},
   "outputs": [
    {
     "data": {
      "text/html": [
       "<div>\n",
       "<style scoped>\n",
       "    .dataframe tbody tr th:only-of-type {\n",
       "        vertical-align: middle;\n",
       "    }\n",
       "\n",
       "    .dataframe tbody tr th {\n",
       "        vertical-align: top;\n",
       "    }\n",
       "\n",
       "    .dataframe thead th {\n",
       "        text-align: right;\n",
       "    }\n",
       "</style>\n",
       "<table border=\"1\" class=\"dataframe\">\n",
       "  <thead>\n",
       "    <tr style=\"text-align: right;\">\n",
       "      <th></th>\n",
       "      <th>merror</th>\n",
       "      <th>mlogloss</th>\n",
       "    </tr>\n",
       "  </thead>\n",
       "  <tbody>\n",
       "    <tr>\n",
       "      <th>543766</th>\n",
       "      <td>0.075472</td>\n",
       "      <td>0.445120</td>\n",
       "    </tr>\n",
       "    <tr>\n",
       "      <th>407878</th>\n",
       "      <td>0.122137</td>\n",
       "      <td>0.428831</td>\n",
       "    </tr>\n",
       "    <tr>\n",
       "      <th>430629</th>\n",
       "      <td>0.127451</td>\n",
       "      <td>0.535741</td>\n",
       "    </tr>\n",
       "    <tr>\n",
       "      <th>501745</th>\n",
       "      <td>0.150000</td>\n",
       "      <td>0.545979</td>\n",
       "    </tr>\n",
       "    <tr>\n",
       "      <th>488674</th>\n",
       "      <td>0.210000</td>\n",
       "      <td>0.623660</td>\n",
       "    </tr>\n",
       "    <tr>\n",
       "      <th>...</th>\n",
       "      <td>...</td>\n",
       "      <td>...</td>\n",
       "    </tr>\n",
       "    <tr>\n",
       "      <th>502706</th>\n",
       "      <td>0.977716</td>\n",
       "      <td>1.885805</td>\n",
       "    </tr>\n",
       "    <tr>\n",
       "      <th>452741</th>\n",
       "      <td>0.981651</td>\n",
       "      <td>1.421439</td>\n",
       "    </tr>\n",
       "    <tr>\n",
       "      <th>543070</th>\n",
       "      <td>1.000000</td>\n",
       "      <td>2.095917</td>\n",
       "    </tr>\n",
       "    <tr>\n",
       "      <th>434180</th>\n",
       "      <td>1.000000</td>\n",
       "      <td>1.703830</td>\n",
       "    </tr>\n",
       "    <tr>\n",
       "      <th>457786</th>\n",
       "      <td>1.000000</td>\n",
       "      <td>1.394741</td>\n",
       "    </tr>\n",
       "  </tbody>\n",
       "</table>\n",
       "<p>397 rows × 2 columns</p>\n",
       "</div>"
      ],
      "text/plain": [
       "          merror  mlogloss\n",
       "543766  0.075472  0.445120\n",
       "407878  0.122137  0.428831\n",
       "430629  0.127451  0.535741\n",
       "501745  0.150000  0.545979\n",
       "488674  0.210000  0.623660\n",
       "...          ...       ...\n",
       "502706  0.977716  1.885805\n",
       "452741  0.981651  1.421439\n",
       "543070  1.000000  2.095917\n",
       "434180  1.000000  1.703830\n",
       "457786  1.000000  1.394741\n",
       "\n",
       "[397 rows x 2 columns]"
      ]
     },
     "execution_count": 17,
     "metadata": {},
     "output_type": "execute_result"
    }
   ],
   "source": [
    "stats_df.sort_values('merror')"
   ]
  },
  {
   "cell_type": "code",
   "execution_count": null,
   "metadata": {},
   "outputs": [],
   "source": []
  }
 ],
 "metadata": {
  "kernelspec": {
   "display_name": "swish_bb",
   "language": "python",
   "name": "python3"
  },
  "language_info": {
   "codemirror_mode": {
    "name": "ipython",
    "version": 3
   },
   "file_extension": ".py",
   "mimetype": "text/x-python",
   "name": "python",
   "nbconvert_exporter": "python",
   "pygments_lexer": "ipython3",
   "version": "3.8.18"
  }
 },
 "nbformat": 4,
 "nbformat_minor": 2
}
